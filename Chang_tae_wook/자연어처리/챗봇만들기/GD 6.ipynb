{
 "cells": [
  {
   "cell_type": "code",
   "execution_count": 1,
   "id": "8760e889",
   "metadata": {},
   "outputs": [],
   "source": [
    "import numpy as np\n",
    "import pandas as pd\n",
    "import tensorflow as tf\n",
    "import sentencepiece as spm\n",
    "from nltk.translate.bleu_score import sentence_bleu\n",
    "from nltk.translate.bleu_score import SmoothingFunction\n",
    "\n",
    "import re\n",
    "import os\n",
    "import random\n",
    "import math\n",
    "\n",
    "from tqdm.notebook import tqdm\n",
    "import matplotlib.pyplot as plt"
   ]
  },
  {
   "cell_type": "markdown",
   "id": "cd81e5aa",
   "metadata": {},
   "source": [
    "## Step 1. 데이터 다운로드\n",
    "\n",
    "읽어 온 데이터의 질문과 답변을 각각 questions, answers 변수에 나눠서 저장\n",
    "(https://github.com/songys/Chatbot_data)"
   ]
  },
  {
   "cell_type": "code",
   "execution_count": 2,
   "id": "dc6a3a1a",
   "metadata": {},
   "outputs": [],
   "source": [
    "chatbot_data = pd.read_csv('~/aiffel/transformer_chatbot/data/ChatbotData.csv')"
   ]
  },
  {
   "cell_type": "code",
   "execution_count": 3,
   "id": "e075d7fb",
   "metadata": {},
   "outputs": [
    {
     "data": {
      "text/html": [
       "<div>\n",
       "<style scoped>\n",
       "    .dataframe tbody tr th:only-of-type {\n",
       "        vertical-align: middle;\n",
       "    }\n",
       "\n",
       "    .dataframe tbody tr th {\n",
       "        vertical-align: top;\n",
       "    }\n",
       "\n",
       "    .dataframe thead th {\n",
       "        text-align: right;\n",
       "    }\n",
       "</style>\n",
       "<table border=\"1\" class=\"dataframe\">\n",
       "  <thead>\n",
       "    <tr style=\"text-align: right;\">\n",
       "      <th></th>\n",
       "      <th>Q</th>\n",
       "      <th>A</th>\n",
       "      <th>label</th>\n",
       "    </tr>\n",
       "  </thead>\n",
       "  <tbody>\n",
       "    <tr>\n",
       "      <th>0</th>\n",
       "      <td>12시 땡!</td>\n",
       "      <td>하루가 또 가네요.</td>\n",
       "      <td>0</td>\n",
       "    </tr>\n",
       "    <tr>\n",
       "      <th>1</th>\n",
       "      <td>1지망 학교 떨어졌어</td>\n",
       "      <td>위로해 드립니다.</td>\n",
       "      <td>0</td>\n",
       "    </tr>\n",
       "    <tr>\n",
       "      <th>2</th>\n",
       "      <td>3박4일 놀러가고 싶다</td>\n",
       "      <td>여행은 언제나 좋죠.</td>\n",
       "      <td>0</td>\n",
       "    </tr>\n",
       "    <tr>\n",
       "      <th>3</th>\n",
       "      <td>3박4일 정도 놀러가고 싶다</td>\n",
       "      <td>여행은 언제나 좋죠.</td>\n",
       "      <td>0</td>\n",
       "    </tr>\n",
       "    <tr>\n",
       "      <th>4</th>\n",
       "      <td>PPL 심하네</td>\n",
       "      <td>눈살이 찌푸려지죠.</td>\n",
       "      <td>0</td>\n",
       "    </tr>\n",
       "  </tbody>\n",
       "</table>\n",
       "</div>"
      ],
      "text/plain": [
       "                 Q            A  label\n",
       "0           12시 땡!   하루가 또 가네요.      0\n",
       "1      1지망 학교 떨어졌어    위로해 드립니다.      0\n",
       "2     3박4일 놀러가고 싶다  여행은 언제나 좋죠.      0\n",
       "3  3박4일 정도 놀러가고 싶다  여행은 언제나 좋죠.      0\n",
       "4          PPL 심하네   눈살이 찌푸려지죠.      0"
      ]
     },
     "execution_count": 3,
     "metadata": {},
     "output_type": "execute_result"
    }
   ],
   "source": [
    "chatbot_data.head()"
   ]
  },
  {
   "cell_type": "code",
   "execution_count": 4,
   "id": "236c98d2",
   "metadata": {},
   "outputs": [],
   "source": [
    "questions = chatbot_data['Q']\n",
    "answers =chatbot_data['A']"
   ]
  },
  {
   "cell_type": "code",
   "execution_count": 5,
   "id": "8983cd4a",
   "metadata": {},
   "outputs": [
    {
     "name": "stdout",
     "output_type": "stream",
     "text": [
      "0             12시 땡!\n",
      "1        1지망 학교 떨어졌어\n",
      "2       3박4일 놀러가고 싶다\n",
      "3    3박4일 정도 놀러가고 싶다\n",
      "4            PPL 심하네\n",
      "Name: Q, dtype: object\n",
      "0     하루가 또 가네요.\n",
      "1      위로해 드립니다.\n",
      "2    여행은 언제나 좋죠.\n",
      "3    여행은 언제나 좋죠.\n",
      "4     눈살이 찌푸려지죠.\n",
      "Name: A, dtype: object\n"
     ]
    }
   ],
   "source": [
    "print(questions[:5])\n",
    "print(answers[:5])"
   ]
  },
  {
   "cell_type": "markdown",
   "id": "f940d5b2",
   "metadata": {},
   "source": [
    "## Step 2. 데이터 정제\n",
    "아래 조건을 만족하는 preprocess_sentence() 함수를 구현하세요.\n",
    "\n",
    "1. 영문자의 경우, 모두 소문자로 변환\n",
    "2. 영문자와 한글, 숫자, 그리고 주요 특수문자를 제외하곤 정규식을 활용하여 모두 제거"
   ]
  },
  {
   "cell_type": "code",
   "execution_count": 6,
   "id": "70cff9c5",
   "metadata": {},
   "outputs": [],
   "source": [
    "def preprocess_sentence(sentence):\n",
    "    # 대문자를 소문자로 변환\n",
    "    sentence = sentence.lower()\n",
    "    # 두 개 이상의 공백을 하나로 변경\n",
    "    sentence = re.sub(r'[\" \"]+', \" \", sentence)\n",
    "    # 영문자와 한글, 숫자, 그리고 주요 특수문자를 제외하곤 정규식을 활용하여 모두 제거합니다.\n",
    "    sentence = re.sub(r\"[^a-zA-Zㄱ-ㅎㅏ-ㅣ가-힣?.!,]+\", \" \", sentence)\n",
    "    # 문자열 양끝 공백 제거\n",
    "    sentence = sentence.strip()\n",
    "    return sentence"
   ]
  },
  {
   "cell_type": "markdown",
   "id": "f01d5845",
   "metadata": {},
   "source": [
    "## Step 3. 데이터 토큰화\n",
    "토큰화에는 KoNLPy의 mecab 클래스를 사용\n",
    "\n",
    "아래 조건을 만족하는 build_corpus() 함수를 구현\n",
    "\n",
    "1. 소스 문장 데이터와 타겟 문장 데이터를 입력으로 받습니다.\n",
    "2. 데이터를 앞서 정의한 preprocess_sentence() 함수로 정제하고, 토큰화합니다.\n",
    "3. 토큰화는 전달받은 토크나이즈 함수를 사용합니다. 이번엔 mecab.morphs 함수를 전달하시면 됩니다.\n",
    "4. 토큰의 개수가 일정 길이 이상인 문장은 데이터에서 제외합니다.\n",
    "5. 중복되는 문장은 데이터에서 제외합니다. 소스 : 타겟 쌍을 비교하지 않고 소스는 소스대로 타겟은 타겟대로 검사합니다. 중복 쌍이 흐트러지지 않도록 유의하세요!\n",
    "구현한 함수를 활용하여 questions 와 answers 를 각각 que_corpus , ans_corpus 에 토큰화하여 저장."
   ]
  },
  {
   "cell_type": "code",
   "execution_count": 7,
   "id": "ec007981",
   "metadata": {},
   "outputs": [],
   "source": [
    "from konlpy.tag import Mecab\n",
    "\n",
    "def build_corpus(questions, answers, max_len=100000):\n",
    "    questions = list(map(preprocess_sentence, questions))\n",
    "    answers = list(map(preprocess_sentence, answers))\n",
    "    \n",
    "    mecab = Mecab()\n",
    "    que_corpus = [\" \".join(mecab.morphs(q)) for q in questions]\n",
    "    ans_corpus = [\" \".join(mecab.morphs(a)) for a in answers]\n",
    "    \n",
    "    que_set = set()\n",
    "    ans_set = set()\n",
    "    new_que_corpus = []\n",
    "    new_ans_corpus = []\n",
    "    \n",
    "    for que, ans in zip(que_corpus, ans_corpus):\n",
    "        if (len(que.split()) > max_len) or (len(ans.split()) > max_len):\n",
    "            continue\n",
    "        if (que not in que_set) and (ans not in ans_set):\n",
    "            new_que_corpus.append(que)\n",
    "            new_ans_corpus.append(ans)\n",
    "        que_set.add(que)\n",
    "        ans_set.add(ans)\n",
    "    \n",
    "    return new_que_corpus, new_ans_corpus"
   ]
  },
  {
   "cell_type": "code",
   "execution_count": 8,
   "id": "d50cfdd4",
   "metadata": {},
   "outputs": [],
   "source": [
    "que_corpus, ans_corpus = build_corpus(questions, answers)"
   ]
  },
  {
   "cell_type": "code",
   "execution_count": 9,
   "id": "c5ce180f",
   "metadata": {},
   "outputs": [
    {
     "name": "stdout",
     "output_type": "stream",
     "text": [
      "['시 땡 !', '지망 학교 떨어졌 어', '박 일 놀 러 가 고 싶 다', 'ppl 심하 네', 'sd 카드 망가졌 어']\n",
      "['하루 가 또 가 네요 .', '위로 해 드립니다 .', '여행 은 언제나 좋 죠 .', '눈살 이 찌푸려 지 죠 .', '다시 새로 사 는 게 마음 편해요 .']\n"
     ]
    }
   ],
   "source": [
    "print(que_corpus[:5])\n",
    "print(ans_corpus[:5])"
   ]
  },
  {
   "cell_type": "code",
   "execution_count": 10,
   "id": "fd8b9d7a",
   "metadata": {},
   "outputs": [],
   "source": [
    "import statistics\n",
    "\n",
    "def length_statistics_without_spaces(strings):\n",
    "    if not strings:\n",
    "        return 0, 0, 0  # 빈 리스트의 경우 평균, 표준편차, 최대 길이는 0으로 정의\n",
    "\n",
    "    # 각 문자열의 길이(공백 제외)를 리스트로 저장\n",
    "    lengths_without_spaces = [len(s.replace(\" \", \"\")) for s in strings]\n",
    "\n",
    "    # 평균, 표준편차, 최대 길이 계산\n",
    "    average_length = statistics.mean(lengths_without_spaces)\n",
    "    std_dev = statistics.stdev(lengths_without_spaces)\n",
    "    max_length = max(lengths_without_spaces)\n",
    "\n",
    "    return average_length, std_dev, max_length"
   ]
  },
  {
   "cell_type": "code",
   "execution_count": 11,
   "id": "26ad900e",
   "metadata": {},
   "outputs": [
    {
     "name": "stdout",
     "output_type": "stream",
     "text": [
      "Average Length: 10.896962555642839\n",
      "Standard Deviation of Lengths: 5.052090962074841\n",
      "Maximum Length: 42\n"
     ]
    }
   ],
   "source": [
    "average_length_que, std_dev_que, max_len_que=length_statistics_without_spaces(que_corpus)\n",
    "# 결과 출력\n",
    "print(\"Average Length:\", average_length_que)\n",
    "print(\"Standard Deviation of Lengths:\", std_dev_que)\n",
    "print(\"Maximum Length:\", max_len_que)"
   ]
  },
  {
   "cell_type": "code",
   "execution_count": 12,
   "id": "8a0be494",
   "metadata": {},
   "outputs": [
    {
     "name": "stdout",
     "output_type": "stream",
     "text": [
      "Average Length: 12.796412673474732\n",
      "Standard Deviation of Lengths: 5.029680425074284\n",
      "Maximum Length: 57\n"
     ]
    }
   ],
   "source": [
    "average_length_ans, std_dev_ans, max_len_ans=length_statistics_without_spaces(ans_corpus)\n",
    "# 결과 출력\n",
    "print(\"Average Length:\", average_length_ans)\n",
    "print(\"Standard Deviation of Lengths:\", std_dev_ans)\n",
    "print(\"Maximum Length:\", max_len_ans)"
   ]
  },
  {
   "cell_type": "code",
   "execution_count": 13,
   "id": "a09e9059",
   "metadata": {},
   "outputs": [],
   "source": [
    "max_len = 20\n",
    "que_corpus, ans_corpus = build_corpus(questions, answers, max_len)"
   ]
  },
  {
   "cell_type": "code",
   "execution_count": 14,
   "id": "6184124f",
   "metadata": {},
   "outputs": [
    {
     "data": {
      "text/plain": [
       "(7528, 7528)"
      ]
     },
     "execution_count": 14,
     "metadata": {},
     "output_type": "execute_result"
    }
   ],
   "source": [
    "len(que_corpus), len(ans_corpus)"
   ]
  },
  {
   "cell_type": "code",
   "execution_count": 15,
   "id": "61192e3c",
   "metadata": {},
   "outputs": [
    {
     "data": {
      "text/plain": [
       "('지망 학교 떨어졌 어', '위로 해 드립니다 .')"
      ]
     },
     "execution_count": 15,
     "metadata": {},
     "output_type": "execute_result"
    }
   ],
   "source": [
    "que_corpus[1], ans_corpus[1]"
   ]
  },
  {
   "cell_type": "markdown",
   "id": "5da18b8e",
   "metadata": {},
   "source": [
    "## Step 4. Augmentation\n",
    "\n",
    "우리에게 주어진 데이터는 1만 개가량으로 적은 편에 속합니다. 이럴 때에 사용할 수 있는 테크닉을 배웠으니 활용해 봐야겠죠? Lexical Substitution을 실제로 적용해 보도록 하겠습니다.\n",
    "\n",
    "아래 링크를 참고하여 한국어로 사전 훈련된 Embedding 모델을 다운로드합니다. Korean (w) 가 Word2Vec으로 학습한 모델이며 용량도 적당하므로 사이트에서 Korean (w)를 찾아 다운로드하고, ko.bin 파일을 얻으세요!\n",
    "\n",
    "[Kyubyong/wordvectors](https://github.com/Kyubyong/wordvectors)\n",
    "\n",
    "다운로드한 모델을 활용해 데이터를 Augmentation 하세요! 앞서 정의한 lexical_sub() 함수를 참고하면 도움이 많이 될 겁니다.\n",
    "\n",
    "Augmentation된 que_corpus 와 원본 ans_corpus 가 병렬을 이루도록, 이후엔 반대로 원본 que_corpus 와 Augmentation된 ans_corpus 가 병렬을 이루도록 하여 전체 데이터가 원래의 3배가량으로 늘어나도록 합니다."
   ]
  },
  {
   "cell_type": "code",
   "execution_count": 17,
   "id": "05651b5d",
   "metadata": {},
   "outputs": [
    {
     "name": "stdout",
     "output_type": "stream",
     "text": [
      "Requirement already satisfied: gensim==3.8.3 in /opt/conda/lib/python3.9/site-packages (3.8.3)\n",
      "Requirement already satisfied: scipy>=0.18.1 in /opt/conda/lib/python3.9/site-packages (from gensim==3.8.3) (1.7.1)\n",
      "Requirement already satisfied: smart-open>=1.8.1 in /opt/conda/lib/python3.9/site-packages (from gensim==3.8.3) (5.2.1)\n",
      "Requirement already satisfied: numpy>=1.11.3 in /opt/conda/lib/python3.9/site-packages (from gensim==3.8.3) (1.21.4)\n",
      "Requirement already satisfied: six>=1.5.0 in /opt/conda/lib/python3.9/site-packages (from gensim==3.8.3) (1.16.0)\n",
      "\u001b[33mWARNING: Running pip as the 'root' user can result in broken permissions and conflicting behaviour with the system package manager. It is recommended to use a virtual environment instead: https://pip.pypa.io/warnings/venv\u001b[0m\n"
     ]
    }
   ],
   "source": [
    "# 한국어 word2vec이 최신버전에서 Can't get attribute 'Vocab' on <module 'gensim.models.word2vec' 오류가 있음.\n",
    "!pip install --upgrade gensim==3.8.3"
   ]
  },
  {
   "cell_type": "code",
   "execution_count": 16,
   "id": "e08c3b96",
   "metadata": {},
   "outputs": [],
   "source": [
    "import gensim\n",
    "# print(gensim.__version__)\n",
    "wordvec = gensim.models.Word2Vec.load('~/aiffel/transformer_chatbot/data/ko.bin')"
   ]
  },
  {
   "cell_type": "code",
   "execution_count": 17,
   "id": "b14a6580",
   "metadata": {},
   "outputs": [
    {
     "name": "stderr",
     "output_type": "stream",
     "text": [
      "/tmp/ipykernel_195/3017808742.py:1: DeprecationWarning: Call to deprecated `most_similar` (Method will be removed in 4.0.0, use self.wv.most_similar() instead).\n",
      "  wordvec.most_similar(\"이름\")\n"
     ]
    },
    {
     "data": {
      "text/plain": [
       "[('별칭', 0.782331109046936),\n",
       " ('별명', 0.7666158676147461),\n",
       " ('명칭', 0.7516838312149048),\n",
       " ('애칭', 0.708103597164154),\n",
       " ('닉네임', 0.6756349205970764),\n",
       " ('제목', 0.6683703660964966),\n",
       " ('필명', 0.6622928380966187),\n",
       " ('예명', 0.6547982096672058),\n",
       " ('가명', 0.6531900763511658),\n",
       " ('호칭', 0.6482669115066528)]"
      ]
     },
     "execution_count": 17,
     "metadata": {},
     "output_type": "execute_result"
    }
   ],
   "source": [
    "wordvec.most_similar(\"이름\")"
   ]
  },
  {
   "cell_type": "code",
   "execution_count": 18,
   "id": "462084f5",
   "metadata": {},
   "outputs": [],
   "source": [
    "def lexical_sub(sample_sentence, wordvec):\n",
    "    sample_tokens = sample_sentence.split()\n",
    "    selected_tok = random.choice(sample_tokens)\n",
    "    result = \"\"\n",
    "    for tok in sample_tokens:\n",
    "        if tok is selected_tok and tok not in \"?.!,\":\n",
    "            try:\n",
    "                result += wordvec.most_similar(tok)[0][0] + \" \"\n",
    "            except:\n",
    "                result += tok + \" \"\n",
    "\n",
    "        else:\n",
    "            result += tok + \" \"\n",
    "    return result.strip()"
   ]
  },
  {
   "cell_type": "code",
   "execution_count": 19,
   "id": "64a391ce",
   "metadata": {},
   "outputs": [
    {
     "name": "stdout",
     "output_type": "stream",
     "text": [
      "ppl 심하 네 ppl 심하 네\n",
      "sns 맞 팔 왜 안 하 지 ㅠㅠ sns 맞 팔 왜 못가 하 지 ㅠㅠ\n"
     ]
    },
    {
     "name": "stderr",
     "output_type": "stream",
     "text": [
      "/tmp/ipykernel_195/3847131956.py:8: DeprecationWarning: Call to deprecated `most_similar` (Method will be removed in 4.0.0, use self.wv.most_similar() instead).\n",
      "  result += wordvec.most_similar(tok)[0][0] + \" \"\n"
     ]
    }
   ],
   "source": [
    "print(que_corpus[3], lexical_sub(que_corpus[3], wordvec))\n",
    "print(que_corpus[5], lexical_sub(que_corpus[5], wordvec))"
   ]
  },
  {
   "cell_type": "code",
   "execution_count": 20,
   "id": "85dd0798",
   "metadata": {},
   "outputs": [
    {
     "name": "stderr",
     "output_type": "stream",
     "text": [
      "/tmp/ipykernel_195/3748499257.py:1: DeprecationWarning: Call to deprecated `most_similar` (Method will be removed in 4.0.0, use self.wv.most_similar() instead).\n",
      "  wordvec.most_similar(\"사람\")\n"
     ]
    },
    {
     "data": {
      "text/plain": [
       "[('젊은이', 0.6494427919387817),\n",
       " ('여인', 0.6287257671356201),\n",
       " ('백성', 0.6063710451126099),\n",
       " ('포졸', 0.6043275594711304),\n",
       " ('죄인', 0.5960500836372375),\n",
       " ('선비', 0.5868039131164551),\n",
       " ('부녀자', 0.5654411315917969),\n",
       " ('죄수', 0.5639811754226685),\n",
       " ('구경꾼', 0.5620019435882568),\n",
       " ('손님', 0.5589558482170105)]"
      ]
     },
     "execution_count": 20,
     "metadata": {},
     "output_type": "execute_result"
    }
   ],
   "source": [
    "wordvec.most_similar(\"사람\")"
   ]
  },
  {
   "cell_type": "code",
   "execution_count": 21,
   "id": "855514a1",
   "metadata": {},
   "outputs": [
    {
     "name": "stderr",
     "output_type": "stream",
     "text": [
      "/tmp/ipykernel_195/3847131956.py:8: DeprecationWarning: Call to deprecated `most_similar` (Method will be removed in 4.0.0, use self.wv.most_similar() instead).\n",
      "  result += wordvec.most_similar(tok)[0][0] + \" \"\n"
     ]
    }
   ],
   "source": [
    "ans_corpus_aug = list(map(lambda s: lexical_sub(s, wordvec), ans_corpus))\n",
    "que_corpus_aug = list(map(lambda s: lexical_sub(s, wordvec), que_corpus))"
   ]
  },
  {
   "cell_type": "markdown",
   "id": "237263af",
   "metadata": {},
   "source": [
    "## Step 5. 데이터 벡터화\n",
    "\n",
    "타겟 데이터인 ans_corpus 에 <start> 토큰과 <end> 토큰이 추가되지 않은 상태이니 이를 먼저 해결한 후 벡터화를 진행합니다. 우리가 구축한 ans_corpus 는 list 형태이기 때문에 아주 쉽게 이를 해결할 수 있답니다!\n",
    "    \n",
    "```\n",
    "sample_data = [\"12\", \"시\", \"땡\", \"!\"]\n",
    "print([\"<start>\"] + sample_data + [\"<end>\"])\n",
    "```\n",
    "    \n",
    "1. 위 소스를 참고하여 타겟 데이터 전체에 <start> 토큰과 <end> 토큰을 추가해 주세요!\n",
    "\n",
    "챗봇 훈련 데이터의 가장 큰 특징 중 하나라고 하자면 바로 소스 데이터와 타겟 데이터가 같은 언어를 사용한다는 것이겠죠. 앞서 배운 것처럼 이는 Embedding 층을 공유했을 때 많은 이점을 얻을 수 있습니다.\n",
    "\n",
    "2. 특수 토큰을 더함으로써 ans_corpus 또한 완성이 되었으니, que_corpus 와 결합하여 전체 데이터에 대한 단어 사전을 구축하고 벡터화하여 enc_train 과 dec_train 을 얻으세요!"
   ]
  },
  {
   "cell_type": "code",
   "execution_count": 22,
   "id": "8155dedc",
   "metadata": {},
   "outputs": [],
   "source": [
    "ans_corpus = list(map(lambda s: \"<start> \" + s + \" <end>\", ans_corpus))\n",
    "ans_corpus_aug = list(map(lambda s: \"<start> \" + s + \" <end>\", ans_corpus_aug))"
   ]
  },
  {
   "cell_type": "code",
   "execution_count": 23,
   "id": "99a5c82b",
   "metadata": {},
   "outputs": [],
   "source": [
    "# 데이터 증강\n",
    "enc_corpus = que_corpus + que_corpus_aug + que_corpus\n",
    "dec_corpus = ans_corpus + ans_corpus + ans_corpus_aug"
   ]
  },
  {
   "cell_type": "code",
   "execution_count": 25,
   "id": "cb08119d",
   "metadata": {},
   "outputs": [
    {
     "data": {
      "text/plain": [
       "(22584, 22584)"
      ]
     },
     "execution_count": 25,
     "metadata": {},
     "output_type": "execute_result"
    }
   ],
   "source": [
    "len(enc_corpus), len(dec_corpus)"
   ]
  },
  {
   "cell_type": "code",
   "execution_count": 26,
   "id": "a8592980",
   "metadata": {},
   "outputs": [
    {
     "data": {
      "text/plain": [
       "7063"
      ]
     },
     "execution_count": 26,
     "metadata": {},
     "output_type": "execute_result"
    }
   ],
   "source": [
    "from tensorflow.keras.preprocessing.text import Tokenizer\n",
    "tokenizer = Tokenizer()\n",
    "tokenizer.fit_on_texts(enc_corpus + dec_corpus)\n",
    "len(tokenizer.word_index)"
   ]
  },
  {
   "cell_type": "code",
   "execution_count": 27,
   "id": "9ed6fc58",
   "metadata": {},
   "outputs": [],
   "source": [
    "VOCAB_SIZE = 6000 # 거의 대부분 사용\n",
    "tokenizer = Tokenizer(num_words=VOCAB_SIZE, oov_token=\"<UNK>\", filters=\"\")\n",
    "tokenizer.fit_on_texts(enc_corpus + dec_corpus)"
   ]
  },
  {
   "cell_type": "code",
   "execution_count": 28,
   "id": "34b40ae5",
   "metadata": {},
   "outputs": [],
   "source": [
    "from keras.preprocessing.sequence import pad_sequences\n",
    "enc_train = tokenizer.texts_to_sequences(enc_corpus)\n",
    "enc_train = pad_sequences(enc_train, padding='post', maxlen=max_len)"
   ]
  },
  {
   "cell_type": "code",
   "execution_count": 29,
   "id": "842567a2",
   "metadata": {},
   "outputs": [],
   "source": [
    "dec_train = tokenizer.texts_to_sequences(dec_corpus)\n",
    "dec_train = pad_sequences(dec_train, padding='post', maxlen=max_len+1)"
   ]
  },
  {
   "cell_type": "code",
   "execution_count": 30,
   "id": "8145814a",
   "metadata": {},
   "outputs": [
    {
     "data": {
      "text/plain": [
       "('지망 학교 떨어졌 어',\n",
       " '<start> 위로 해 드립니다 . <end>',\n",
       " array([3785,  640, 1062,   13,    0,    0,    0,    0,    0,    0,    0,\n",
       "           0,    0,    0,    0,    0,    0,    0,    0,    0], dtype=int32),\n",
       " array([   3,  638,   17, 1489,    2,    4,    0,    0,    0,    0,    0,\n",
       "           0,    0,    0,    0,    0,    0,    0,    0,    0,    0],\n",
       "       dtype=int32))"
      ]
     },
     "execution_count": 30,
     "metadata": {},
     "output_type": "execute_result"
    }
   ],
   "source": [
    "enc_corpus[1], dec_corpus[1], enc_train[1], dec_train[1]"
   ]
  },
  {
   "cell_type": "markdown",
   "id": "2e5b677f",
   "metadata": {},
   "source": [
    "## Step 6. 훈련하기\n",
    "\n",
    "앞서 번역 모델을 훈련하며 정의한 Transformer 를 그대로 사용하시면 됩니다! 대신 데이터의 크기가 작으니 하이퍼파라미터를 튜닝해야 과적합을 피할 수 있습니다. 모델을 훈련하고 아래 예문에 대한 답변을 생성하세요! 가장 멋진 답변과 모델의 하이퍼파라미터를 제출하시면 됩니다.\n"
   ]
  },
  {
   "cell_type": "markdown",
   "id": "1765c0a1",
   "metadata": {},
   "source": [
    "## 모델 구현"
   ]
  },
  {
   "cell_type": "code",
   "execution_count": 31,
   "id": "0d7f2708",
   "metadata": {},
   "outputs": [],
   "source": [
    "# Positional Encoding 구현\n",
    "def positional_encoding(pos, d_model):\n",
    "    sinusoid_table = np.array([[pos_i / np.power(10000, 2 * (d_j // 2) / np.float32(d_model)) for d_j in range(d_model)] for pos_i in range(pos)])\n",
    "    sinusoid_table[:, 0::2] = np.sin(sinusoid_table[:, 0::2])\n",
    "    sinusoid_table[:, 1::2] = np.cos(sinusoid_table[:, 1::2])\n",
    "\n",
    "    return sinusoid_table"
   ]
  },
  {
   "cell_type": "code",
   "execution_count": 32,
   "id": "ea651d40",
   "metadata": {},
   "outputs": [],
   "source": [
    "# Mask  생성하기\n",
    "def generate_padding_mask(seq):\n",
    "    # 시퀀스에서 각 위치의 값이 0인지 확인\n",
    "    mask = tf.cast(tf.math.equal(seq, 0), tf.float32)\n",
    "    # 차원 추가하여 마스크의 형태를 모델에 맞게 조정\n",
    "    # 예: (batch_size, 1, 1, sequence_length) \n",
    "    return mask[:, tf.newaxis, tf.newaxis, :]\n",
    "\n",
    "def generate_lookahead_mask(size):\n",
    "    # mask 부분에 대해서 구하려면 1에서 빼줌\n",
    "    mask = 1 - tf.linalg.band_part(tf.ones((size, size)), -1, 0)\n",
    "    return mask\n",
    "\n",
    "def generate_masks(src, tgt):\n",
    "    enc_mask = generate_padding_mask(src)\n",
    "    dec_enc_mask = generate_padding_mask(src)\n",
    "\n",
    "    # dec_mask is masked attention\n",
    "    lookahead_mask = generate_lookahead_mask(tgt.shape[1])\n",
    "    padding_mask = generate_padding_mask(tgt)\n",
    "    dec_mask = tf.maximum(lookahead_mask, padding_mask)\n",
    "\n",
    "    return enc_mask, dec_enc_mask, dec_mask"
   ]
  },
  {
   "cell_type": "code",
   "execution_count": 33,
   "id": "e4948dc4",
   "metadata": {},
   "outputs": [],
   "source": [
    "# Multi Head Attention 구현\n",
    "class MultiHeadAttention(tf.keras.layers.Layer):\n",
    "    def __init__(self, d_model, num_heads):\n",
    "        super(MultiHeadAttention, self).__init__()\n",
    "        self.num_heads = num_heads\n",
    "        self.d_model = d_model\n",
    "        \n",
    "        self.depth = d_model // self.num_heads\n",
    "        \n",
    "        # for multi head split\n",
    "        self.W_q = tf.keras.layers.Dense(d_model)\n",
    "        self.W_k = tf.keras.layers.Dense(d_model)\n",
    "        self.W_v = tf.keras.layers.Dense(d_model)\n",
    "    \n",
    "        # for multi head combine\n",
    "        self.linear = tf.keras.layers.Dense(d_model)\n",
    "\n",
    "    def scaled_dot_product_attention(self, Q, K, V, mask):\n",
    "        # scaled_QK = Q K^t / sqrt(d_k) \n",
    "        d_k = tf.cast(K.shape[-1], tf.float32)\n",
    "        QK = tf.matmul(Q, K, transpose_b=True)\n",
    "        scaled_QK = QK / tf.math.sqrt(d_k) # shape: (seq, seq)\n",
    "\n",
    "        if mask is not None:\n",
    "            # softmax를 취하기 때문에 -무한대를 주면 해당 값이 0이 됨.\n",
    "            scaled_QK += (mask * -1e9)\n",
    "\n",
    "        attentions = tf.nn.softmax(scaled_QK, axis=-1)\n",
    "        out = tf.matmul(attentions, V)\n",
    "        \n",
    "        return out, attentions\n",
    "        \n",
    "    def split_heads(self, x):\n",
    "        # (batch_size, seq, d_model) -> (batch_size, seq, num_heads, depth)\n",
    "        split_x = tf.reshape(x, (x.shape[0], -1, self.num_heads, self.depth))\n",
    "        # (batch_size, seq, num_heads, depth) ->  (batch_size, num_heads, seq, depth)\n",
    "        split_x = tf.transpose(split_x, perm=[0, 2, 1, 3])\n",
    "        return split_x\n",
    "\n",
    "    def combine_heads(self, x):\n",
    "        # (batch_size, num_heads, seq, depth) -> (batch_size, seq, num_heads, depth)\n",
    "        combined_x = tf.transpose(x, perm=[0, 2, 1, 3])\n",
    "        # (batch_size, seq, num_heads, depth) -> (batch_size, seq, d_model)\n",
    "        combined_x = tf.reshape(combined_x, (combined_x.shape[0], -1, self.d_model))\n",
    "        return combined_x\n",
    "\n",
    "    def call(self, Q, K, V, mask):\n",
    "        WQ = self.W_q(Q)\n",
    "        WK = self.W_k(K)\n",
    "        WV = self.W_v(V)\n",
    "        \n",
    "        # split head\n",
    "        Q_splits = self.split_heads(WQ)\n",
    "        K_splits = self.split_heads(WK)\n",
    "        V_splits = self.split_heads(WV)\n",
    "\n",
    "        # attention mechanism\n",
    "        out, attention_weights = self.scaled_dot_product_attention(Q_splits, K_splits, V_splits, mask)\n",
    "        \n",
    "        # combine head\n",
    "        out = self.combine_heads(out)\n",
    "        out = self.linear(out)\n",
    "\n",
    "        return out, attention_weights"
   ]
  },
  {
   "cell_type": "code",
   "execution_count": 34,
   "id": "a5b13d86",
   "metadata": {},
   "outputs": [],
   "source": [
    "# Position-wise Feed Forward Network 구현\n",
    "class PoswiseFeedForwardNet(tf.keras.layers.Layer):\n",
    "    def __init__(self, d_model, d_ff):\n",
    "        super(PoswiseFeedForwardNet, self).__init__()\n",
    "        self.d_model = d_model\n",
    "        self.d_ff = d_ff\n",
    "\n",
    "        self.fc1 = tf.keras.layers.Dense(d_ff, activation='relu')\n",
    "        self.fc2 = tf.keras.layers.Dense(d_model)\n",
    "\n",
    "    def call(self, x):\n",
    "        out = self.fc1(x)\n",
    "        out = self.fc2(out)\n",
    "            \n",
    "        return out"
   ]
  },
  {
   "cell_type": "code",
   "execution_count": 35,
   "id": "8b58048c",
   "metadata": {},
   "outputs": [],
   "source": [
    "# Encoder 레이어 구현\n",
    "class EncoderLayer(tf.keras.layers.Layer):\n",
    "    def __init__(self, d_model, n_heads, d_ff, dropout):\n",
    "        super(EncoderLayer, self).__init__()\n",
    "\n",
    "        self.enc_self_attn = MultiHeadAttention(d_model, n_heads)\n",
    "        self.ffn = PoswiseFeedForwardNet(d_model, d_ff)\n",
    "\n",
    "        self.norm_1 = tf.keras.layers.LayerNormalization(epsilon=1e-6)\n",
    "        self.norm_2 = tf.keras.layers.LayerNormalization(epsilon=1e-6)\n",
    "\n",
    "        self.do = tf.keras.layers.Dropout(dropout)\n",
    "        \n",
    "    def call(self, x, mask):\n",
    "        ## pre-LN 적용\n",
    "        # Multi-Head Attention\n",
    "        identity = x\n",
    "        out = self.norm_1(x)\n",
    "        out, enc_attn = self.enc_self_attn(out, out, out, mask)\n",
    "        out = self.do(out)\n",
    "        out += identity\n",
    "        \n",
    "        # Position-Wise Feed Forward Network\n",
    "        identity = out\n",
    "        out = self.norm_2(out)\n",
    "        out = self.ffn(out)\n",
    "        out = self.do(out)\n",
    "        out += identity\n",
    "        \n",
    "        return out, enc_attn"
   ]
  },
  {
   "cell_type": "code",
   "execution_count": 36,
   "id": "e5a9ae74",
   "metadata": {},
   "outputs": [],
   "source": [
    "# Decoder 레이어 구현\n",
    "class DecoderLayer(tf.keras.layers.Layer):\n",
    "    def __init__(self, d_model, num_heads, d_ff, dropout):\n",
    "        super(DecoderLayer, self).__init__()\n",
    "\n",
    "        self.dec_self_attn = MultiHeadAttention(d_model, num_heads)\n",
    "        self.dec_enc_attn = MultiHeadAttention(d_model, num_heads)\n",
    "\n",
    "        self.ffn = PoswiseFeedForwardNet(d_model, d_ff)\n",
    "\n",
    "        self.norm_1 = tf.keras.layers.LayerNormalization(epsilon=1e-6)\n",
    "        self.norm_2 = tf.keras.layers.LayerNormalization(epsilon=1e-6)\n",
    "        self.norm_3 = tf.keras.layers.LayerNormalization(epsilon=1e-6)\n",
    "\n",
    "        self.do = tf.keras.layers.Dropout(dropout)\n",
    "    \n",
    "    def call(self, x, enc_out, dec_enc_mask, dec_mask):\n",
    "        # Masked Multi-Head Attention\n",
    "        identity = x\n",
    "        out = self.norm_1(x)\n",
    "        out, dec_attn = self.dec_self_attn(out, out, out, dec_mask)\n",
    "        out = self.do(out)\n",
    "        out += identity\n",
    "        \n",
    "        # Multi-Head Attention\n",
    "        identity = out\n",
    "        out = self.norm_2(x)\n",
    "        out, dec_enc_attn = self.dec_enc_attn(out, enc_out, enc_out, dec_enc_mask)\n",
    "        out = self.do(out)\n",
    "        out += identity\n",
    "        \n",
    "        # Position-Wise Feed Forward Network\n",
    "        identity = out\n",
    "        out = self.norm_3(out)\n",
    "        out = self.ffn(out)\n",
    "        out = self.do(out)\n",
    "        out += identity\n",
    "\n",
    "        return out, dec_attn, dec_enc_attn"
   ]
  },
  {
   "cell_type": "code",
   "execution_count": 37,
   "id": "07b3b804",
   "metadata": {},
   "outputs": [],
   "source": [
    "# Encoder 구현\n",
    "class Encoder(tf.keras.Model):\n",
    "    def __init__(self,\n",
    "                    n_layers,\n",
    "                    d_model,\n",
    "                    n_heads,\n",
    "                    d_ff,\n",
    "                    dropout):\n",
    "        super(Encoder, self).__init__()\n",
    "        self.n_layers = n_layers\n",
    "        self.enc_layers = [EncoderLayer(d_model, n_heads, d_ff, dropout) \n",
    "                        for _ in range(n_layers)]\n",
    "        \n",
    "    def call(self, x, mask):\n",
    "        out = x\n",
    "        enc_attns = []\n",
    "        for enc_layer in self.enc_layers:\n",
    "            out, enc_attn = enc_layer(out, mask)\n",
    "            enc_attns.append(enc_attn)\n",
    "        return out, enc_attns"
   ]
  },
  {
   "cell_type": "code",
   "execution_count": 38,
   "id": "5b33ca19",
   "metadata": {},
   "outputs": [],
   "source": [
    "# Decoder 구현\n",
    "class Decoder(tf.keras.Model):\n",
    "    def __init__(self,\n",
    "                    n_layers,\n",
    "                    d_model,\n",
    "                    n_heads,\n",
    "                    d_ff,\n",
    "                    dropout):\n",
    "        super(Decoder, self).__init__()\n",
    "        self.n_layers = n_layers\n",
    "        self.dec_layers = [DecoderLayer(d_model, n_heads, d_ff, dropout) \n",
    "                            for _ in range(n_layers)]\n",
    "                            \n",
    "    def call(self, x, enc_out, dec_enc_mask, dec_mask):\n",
    "        out = x\n",
    "    \n",
    "        dec_attns = list()\n",
    "        dec_enc_attns = list()\n",
    "        for i in range(self.n_layers):\n",
    "            out, dec_attn, dec_enc_attn = self.dec_layers[i](out, enc_out, dec_enc_mask, dec_mask)\n",
    "\n",
    "            dec_attns.append(dec_attn)\n",
    "            dec_enc_attns.append(dec_enc_attn)\n",
    "\n",
    "        return out, dec_attns, dec_enc_attns"
   ]
  },
  {
   "cell_type": "code",
   "execution_count": 39,
   "id": "1de37e85",
   "metadata": {},
   "outputs": [],
   "source": [
    "# Transformer 전체 모델 조립\n",
    "class Transformer(tf.keras.Model):\n",
    "    def __init__(self,\n",
    "                    n_layers,\n",
    "                    d_model,\n",
    "                    n_heads,\n",
    "                    d_ff,\n",
    "                    src_vocab_size,\n",
    "                    tgt_vocab_size,\n",
    "                    pos_len,\n",
    "                    dropout=0.2,\n",
    "                    shared_fc=True,\n",
    "                    shared_emb=False):\n",
    "        super(Transformer, self).__init__()\n",
    "        \n",
    "        self.d_model = tf.cast(d_model, tf.float32)\n",
    "\n",
    "        if shared_emb:\n",
    "            self.enc_emb = self.dec_emb = \\\n",
    "            tf.keras.layers.Embedding(src_vocab_size, d_model)\n",
    "        else:\n",
    "            self.enc_emb = tf.keras.layers.Embedding(src_vocab_size, d_model)\n",
    "            self.dec_emb = tf.keras.layers.Embedding(tgt_vocab_size, d_model)\n",
    "\n",
    "        self.pos_encoding = positional_encoding(pos_len, d_model)\n",
    "        self.do = tf.keras.layers.Dropout(dropout)\n",
    "\n",
    "        self.encoder = Encoder(n_layers, d_model, n_heads, d_ff, dropout)\n",
    "        self.decoder = Decoder(n_layers, d_model, n_heads, d_ff, dropout)\n",
    "\n",
    "        self.fc = tf.keras.layers.Dense(tgt_vocab_size)\n",
    "\n",
    "        self.shared_fc = shared_fc\n",
    "\n",
    "        if shared_fc:\n",
    "            self.fc.set_weights(tf.transpose(self.dec_emb.weights))\n",
    "\n",
    "    def embedding(self, emb, x):\n",
    "        seq_len = x.shape[1]\n",
    "        out = emb(x)\n",
    "\n",
    "        if self.shared_fc: \n",
    "            out *= tf.math.sqrt(self.d_model)\n",
    "\n",
    "        # pos_encoding (max_seq_len, max_seq_len) vs embedding vector (batch_size, seq_len, d_model)\n",
    "        out += self.pos_encoding[np.newaxis, ...][:, :seq_len, :]\n",
    "        out = self.do(out)\n",
    "\n",
    "        return out\n",
    "\n",
    "    def call(self, enc_in, dec_in, enc_mask, dec_enc_mask, dec_mask):\n",
    "        enc_in = self.embedding(self.enc_emb, enc_in)\n",
    "        dec_in = self.embedding(self.dec_emb, dec_in)\n",
    "\n",
    "        enc_out, enc_attns = self.encoder(enc_in, enc_mask)\n",
    "        dec_out, dec_attns, dec_enc_attns = self.decoder(dec_in, enc_out, dec_enc_mask, dec_mask)\n",
    "\n",
    "        logits = self.fc(dec_out)\n",
    "\n",
    "        return logits, enc_attns, dec_attns, dec_enc_attns"
   ]
  },
  {
   "cell_type": "code",
   "execution_count": 40,
   "id": "72096530",
   "metadata": {},
   "outputs": [],
   "source": [
    "# 모델 인스턴스 생성\n",
    "d_model = 256\n",
    "VOCAB_SIZE = len(tokenizer.word_index)\n",
    "transformer = Transformer(\n",
    "    n_layers=2,\n",
    "    d_model=d_model,\n",
    "    n_heads=8,\n",
    "    d_ff=1024,\n",
    "    src_vocab_size=VOCAB_SIZE,\n",
    "    tgt_vocab_size=VOCAB_SIZE,\n",
    "    pos_len=100,\n",
    "    dropout=0.3,\n",
    "    shared_fc=True,\n",
    "    shared_emb=True)"
   ]
  },
  {
   "cell_type": "code",
   "execution_count": 41,
   "id": "cfcbed61",
   "metadata": {},
   "outputs": [],
   "source": [
    "# Learning Rate Scheduler\n",
    "class LearningRateScheduler(tf.keras.optimizers.schedules.LearningRateSchedule):\n",
    "    def __init__(self, d_model, warmup_steps=4000):\n",
    "        super(LearningRateScheduler, self).__init__()\n",
    "        \n",
    "        self.d_model = d_model\n",
    "        self.warmup_steps = warmup_steps\n",
    "    \n",
    "    def __call__(self, step):\n",
    "        arg1 = step ** -0.5\n",
    "        arg2 = step * (self.warmup_steps ** -1.5)\n",
    "        \n",
    "        return (self.d_model ** -0.5) * tf.math.minimum(arg1, arg2)"
   ]
  },
  {
   "cell_type": "code",
   "execution_count": 42,
   "id": "96170911",
   "metadata": {},
   "outputs": [],
   "source": [
    "# Learning Rate & Optimizer\n",
    "learning_rate = LearningRateScheduler(d_model)\n",
    "\n",
    "optimizer = tf.keras.optimizers.Adam(learning_rate,\n",
    "                                        beta_1=0.9,\n",
    "                                        beta_2=0.98, \n",
    "                                        epsilon=1e-9)"
   ]
  },
  {
   "cell_type": "code",
   "execution_count": 43,
   "id": "e6435e72",
   "metadata": {},
   "outputs": [],
   "source": [
    "loss_object = tf.keras.losses.SparseCategoricalCrossentropy(from_logits=True, reduction='none')\n",
    "\n",
    "def loss_function(real, pred):\n",
    "    mask = tf.math.logical_not(tf.math.equal(real, 0))\n",
    "    loss_ = loss_object(real, pred)\n",
    "\n",
    "    mask = tf.cast(mask, dtype=loss_.dtype)\n",
    "    loss_ *= mask\n",
    "\n",
    "    return tf.reduce_sum(loss_) / tf.reduce_sum(mask)"
   ]
  },
  {
   "cell_type": "code",
   "execution_count": 44,
   "id": "1edd91a5",
   "metadata": {},
   "outputs": [],
   "source": [
    "@tf.function()\n",
    "def train_step(src, tgt, model, optimizer):\n",
    "    tgt_in = tgt[:, :-1]  # Decoder의 input\n",
    "    gold = tgt[:, 1:]     # Decoder의 output과 비교하기 위해 right shift를 통해 생성한 최종 타겟\n",
    "\n",
    "    enc_mask, dec_enc_mask, dec_mask = generate_masks(src, tgt_in)\n",
    "\n",
    "    with tf.GradientTape() as tape:\n",
    "        predictions, enc_attns, dec_attns, dec_enc_attns = \\\n",
    "        model(src, tgt_in, enc_mask, dec_enc_mask, dec_mask)\n",
    "        loss = loss_function(gold, predictions)\n",
    "\n",
    "    gradients = tape.gradient(loss, model.trainable_variables)    \n",
    "    optimizer.apply_gradients(zip(gradients, model.trainable_variables))\n",
    "\n",
    "    return loss, enc_attns, dec_attns, dec_enc_attns"
   ]
  },
  {
   "cell_type": "code",
   "execution_count": 45,
   "id": "73202fa7",
   "metadata": {},
   "outputs": [],
   "source": [
    "BATCH_SIZE = 64\n",
    "train_dataset = tf.data.Dataset.from_tensor_slices((enc_train, dec_train)).batch(batch_size=BATCH_SIZE)"
   ]
  },
  {
   "cell_type": "code",
   "execution_count": 46,
   "id": "5cfaf30d",
   "metadata": {},
   "outputs": [],
   "source": [
    "def evaluate(sentence, model, tokenizer): \n",
    "    # start, end = 3, 4\n",
    "    sentence = preprocess_sentence(sentence)\n",
    "\n",
    "    tokens = tokenizer.texts_to_sequences([sentence])\n",
    "\n",
    "    _input = tf.keras.preprocessing.sequence.pad_sequences(tokens,\n",
    "                                                           maxlen=enc_train.shape[-1],\n",
    "                                                           padding='post')\n",
    "    \n",
    "    ids = []\n",
    "    output = tf.expand_dims([3], 0)\n",
    "    for i in range(dec_train.shape[-1]):\n",
    "        enc_padding_mask, combined_mask, dec_padding_mask = \\\n",
    "        generate_masks(_input, output)\n",
    "\n",
    "        predictions, enc_attns, dec_attns, dec_enc_attns =\\\n",
    "        model(_input, \n",
    "              output,\n",
    "              enc_padding_mask,\n",
    "              combined_mask,\n",
    "              dec_padding_mask)\n",
    "\n",
    "        predicted_id = \\\n",
    "        tf.argmax(tf.math.softmax(predictions, axis=-1)[0, -1]).numpy().item()\n",
    "\n",
    "        if 4 == predicted_id:\n",
    "            result = tokenizer.sequences_to_texts([ids])\n",
    "            return result[0], enc_attns, dec_attns, dec_enc_attns\n",
    "\n",
    "        ids.append(predicted_id)\n",
    "        output = tf.concat([output, tf.expand_dims([predicted_id], 0)], axis=-1)\n",
    "\n",
    "    result = tokenizer.sequences_to_texts([ids])\n",
    "\n",
    "    return result[0], enc_attns, dec_attns, dec_enc_attns"
   ]
  },
  {
   "cell_type": "code",
   "execution_count": 47,
   "id": "8b82f11e",
   "metadata": {},
   "outputs": [
    {
     "name": "stdout",
     "output_type": "stream",
     "text": [
      "Q: 지루하다, 놀러가고 싶어.\n",
      "A: 가만히 가만히 가만히 가만히 가만히 가만히 가만히 가만히 가만히 가만히 가만히 가만히 가만히 가만히 가만히 가만히 가만히 가만히 가만히 가만히 가만히\n",
      "\n",
      "Q: 오늘 일찍 일어났더니 피곤하다.\n",
      "A: 허기지 허기지 허기지 허기지 허기지 본인 본인 본인 본인 본인 본인 본인 본인 본인 본인 본인 본인 본인 본인 본인 본인\n",
      "\n",
      "Q: 간만에 여자친구랑 데이트 하기로 했어.\n",
      "A: 허기지 본인 본인 본인 본인 본인 본인 본인 본인 본인 본인 본인 본인 본인 본인 본인 본인 본인 본인 본인 본인\n",
      "\n",
      "Q: 집에 있는다는 소리야.\n",
      "A: 가만히 가만히 가만히 가만히 가만히 가만히 가만히 가만히 가만히 가만히 가만히 가만히 가만히 가만히 가만히 가만히 가만히 가만히 가만히 가만히 가만히\n",
      "\n"
     ]
    }
   ],
   "source": [
    "def generate_answer():\n",
    "    question_list = ['지루하다, 놀러가고 싶어.', '오늘 일찍 일어났더니 피곤하다.', '간만에 여자친구랑 데이트 하기로 했어.', '집에 있는다는 소리야.']\n",
    "\n",
    "    for question in question_list:\n",
    "        print(f\"Q: {question}\\nA: {evaluate(question, transformer, tokenizer)[0]}\\n\")\n",
    "generate_answer()"
   ]
  },
  {
   "cell_type": "code",
   "execution_count": 49,
   "id": "b3c6da56",
   "metadata": {},
   "outputs": [
    {
     "data": {
      "application/vnd.jupyter.widget-view+json": {
       "model_id": "08ff057fbc654312a122527cf050f96f",
       "version_major": 2,
       "version_minor": 0
      },
      "text/plain": [
       "  0%|          | 0/353 [00:00<?, ?it/s]"
      ]
     },
     "metadata": {},
     "output_type": "display_data"
    },
    {
     "name": "stdout",
     "output_type": "stream",
     "text": [
      "epoch 1 train loss: 0.0783\n",
      "Q: 지루하다, 놀러가고 싶어.\n",
      "A: 아프 꼼짝 말 아요 .\n",
      "\n",
      "Q: 오늘 일찍 일어났더니 피곤하다.\n",
      "A: 힘들 거 라 생각 해요 .\n",
      "\n",
      "Q: 간만에 여자친구랑 데이트 하기로 했어.\n",
      "A: 휴식 이 필요 하 죠 .\n",
      "\n",
      "Q: 집에 있는다는 소리야.\n",
      "A: 아프 꼼짝 말 아요 .\n",
      "\n"
     ]
    },
    {
     "data": {
      "application/vnd.jupyter.widget-view+json": {
       "model_id": "e89841c41b3b490a95dd9723db5c9658",
       "version_major": 2,
       "version_minor": 0
      },
      "text/plain": [
       "  0%|          | 0/353 [00:00<?, ?it/s]"
      ]
     },
     "metadata": {},
     "output_type": "display_data"
    },
    {
     "name": "stdout",
     "output_type": "stream",
     "text": [
      "epoch 2 train loss: 0.0777\n",
      "Q: 지루하다, 놀러가고 싶어.\n",
      "A: 아프 꼼짝 말 아요 .\n",
      "\n",
      "Q: 오늘 일찍 일어났더니 피곤하다.\n",
      "A: 어떤 선택 이 든지 였 길 바라 오자키 .\n",
      "\n",
      "Q: 간만에 여자친구랑 데이트 하기로 했어.\n",
      "A: 잠깐 눈 이 죠 .\n",
      "\n",
      "Q: 집에 있는다는 소리야.\n",
      "A: 아프 꼼짝 말 아요 .\n",
      "\n"
     ]
    },
    {
     "data": {
      "application/vnd.jupyter.widget-view+json": {
       "model_id": "70bd420cec8e4f49874e24281c207c41",
       "version_major": 2,
       "version_minor": 0
      },
      "text/plain": [
       "  0%|          | 0/353 [00:00<?, ?it/s]"
      ]
     },
     "metadata": {},
     "output_type": "display_data"
    },
    {
     "name": "stdout",
     "output_type": "stream",
     "text": [
      "epoch 3 train loss: 0.0771\n",
      "Q: 지루하다, 놀러가고 싶어.\n",
      "A: 아프 꼼짝 말 아요 .\n",
      "\n",
      "Q: 오늘 일찍 일어났더니 피곤하다.\n",
      "A: 힘들 었 을 거 라 생각 해요 .\n",
      "\n",
      "Q: 간만에 여자친구랑 데이트 하기로 했어.\n",
      "A: 잠깐 눈 을 <UNK> 하 기 전 에 <UNK> 그러 죠 .\n",
      "\n",
      "Q: 집에 있는다는 소리야.\n",
      "A: 아프 꼼짝 말 아요 .\n",
      "\n"
     ]
    },
    {
     "data": {
      "application/vnd.jupyter.widget-view+json": {
       "model_id": "bf5a47644c254c3aba10ae83eaf44c24",
       "version_major": 2,
       "version_minor": 0
      },
      "text/plain": [
       "  0%|          | 0/353 [00:00<?, ?it/s]"
      ]
     },
     "metadata": {},
     "output_type": "display_data"
    },
    {
     "name": "stdout",
     "output_type": "stream",
     "text": [
      "epoch 4 train loss: 0.0746\n",
      "Q: 지루하다, 놀러가고 싶어.\n",
      "A: 아프 꼼짝 말 아요 .\n",
      "\n",
      "Q: 오늘 일찍 일어났더니 피곤하다.\n",
      "A: 힘들 었 을 거 라 생각 해요 .\n",
      "\n",
      "Q: 간만에 여자친구랑 데이트 하기로 했어.\n",
      "A: 잠깐 눈 이 길래 좋 죠 .\n",
      "\n",
      "Q: 집에 있는다는 소리야.\n",
      "A: 아프 꼼짝 말 아요 .\n",
      "\n"
     ]
    },
    {
     "data": {
      "application/vnd.jupyter.widget-view+json": {
       "model_id": "4dbad030dc0344a9bbc062b3ce8a2181",
       "version_major": 2,
       "version_minor": 0
      },
      "text/plain": [
       "  0%|          | 0/353 [00:00<?, ?it/s]"
      ]
     },
     "metadata": {},
     "output_type": "display_data"
    },
    {
     "name": "stdout",
     "output_type": "stream",
     "text": [
      "epoch 5 train loss: 0.0791\n",
      "Q: 지루하다, 놀러가고 싶어.\n",
      "A: 아프 꼼짝 말 아요 .\n",
      "\n",
      "Q: 오늘 일찍 일어났더니 피곤하다.\n",
      "A: 오늘 은 슬픔 그러 었 길 바랄게요 .\n",
      "\n",
      "Q: 간만에 여자친구랑 데이트 하기로 했어.\n",
      "A: 잠깐 핸드폰 도 괜찮 아요 .\n",
      "\n",
      "Q: 집에 있는다는 소리야.\n",
      "A: 아프 꼼짝 말 아요 .\n",
      "\n"
     ]
    },
    {
     "data": {
      "application/vnd.jupyter.widget-view+json": {
       "model_id": "6b73d427836c49e989e23424dcb3bfc8",
       "version_major": 2,
       "version_minor": 0
      },
      "text/plain": [
       "  0%|          | 0/353 [00:00<?, ?it/s]"
      ]
     },
     "metadata": {},
     "output_type": "display_data"
    },
    {
     "name": "stdout",
     "output_type": "stream",
     "text": [
      "epoch 6 train loss: 0.0792\n",
      "Q: 지루하다, 놀러가고 싶어.\n",
      "A: 아프 꼼짝 말 아요 .\n",
      "\n",
      "Q: 오늘 일찍 일어났더니 피곤하다.\n",
      "A: 많이 실망 때때 거 라 생각 해요 .\n",
      "\n",
      "Q: 간만에 여자친구랑 데이트 하기로 했어.\n",
      "A: 잠깐 핸드폰 도 괜찮 아요 .\n",
      "\n",
      "Q: 집에 있는다는 소리야.\n",
      "A: 아프 꼼짝 말 아요 .\n",
      "\n"
     ]
    },
    {
     "data": {
      "application/vnd.jupyter.widget-view+json": {
       "model_id": "c676dfc04c8849e7a451924aeac10c2b",
       "version_major": 2,
       "version_minor": 0
      },
      "text/plain": [
       "  0%|          | 0/353 [00:00<?, ?it/s]"
      ]
     },
     "metadata": {},
     "output_type": "display_data"
    },
    {
     "name": "stdout",
     "output_type": "stream",
     "text": [
      "epoch 7 train loss: 0.0788\n",
      "Q: 지루하다, 놀러가고 싶어.\n",
      "A: 아프 꼼짝 말 아요 .\n",
      "\n",
      "Q: 오늘 일찍 일어났더니 피곤하다.\n",
      "A: 힘들 결정 이 었 겠 는데요 .\n",
      "\n",
      "Q: 간만에 여자친구랑 데이트 하기로 했어.\n",
      "A: 잠깐 눈 을 <UNK> 말 해 보 세요 .\n",
      "\n",
      "Q: 집에 있는다는 소리야.\n",
      "A: 아프 꼼짝 말 아요 .\n",
      "\n"
     ]
    },
    {
     "data": {
      "application/vnd.jupyter.widget-view+json": {
       "model_id": "d547547afbd4487ea3907d80f865145a",
       "version_major": 2,
       "version_minor": 0
      },
      "text/plain": [
       "  0%|          | 0/353 [00:00<?, ?it/s]"
      ]
     },
     "metadata": {},
     "output_type": "display_data"
    },
    {
     "name": "stdout",
     "output_type": "stream",
     "text": [
      "epoch 8 train loss: 0.0756\n",
      "Q: 지루하다, 놀러가고 싶어.\n",
      "A: 아프 꼼짝 말 아요 .\n",
      "\n",
      "Q: 오늘 일찍 일어났더니 피곤하다.\n",
      "A: 오늘 은 슬픔 그러 었 길 바랄게요 .\n",
      "\n",
      "Q: 간만에 여자친구랑 데이트 하기로 했어.\n",
      "A: 야경 이 죠 .\n",
      "\n",
      "Q: 집에 있는다는 소리야.\n",
      "A: 아프 꼼짝 말 아요 .\n",
      "\n"
     ]
    },
    {
     "data": {
      "application/vnd.jupyter.widget-view+json": {
       "model_id": "279217046d71412a9492f1fa4e40a195",
       "version_major": 2,
       "version_minor": 0
      },
      "text/plain": [
       "  0%|          | 0/353 [00:00<?, ?it/s]"
      ]
     },
     "metadata": {},
     "output_type": "display_data"
    },
    {
     "name": "stdout",
     "output_type": "stream",
     "text": [
      "epoch 9 train loss: 0.0742\n",
      "Q: 지루하다, 놀러가고 싶어.\n",
      "A: 아프 꼼짝 말 아요 .\n",
      "\n",
      "Q: 오늘 일찍 일어났더니 피곤하다.\n",
      "A: 힘들 싶 지만 잘 정도 맛있 는 것 같 아요 .\n",
      "\n",
      "Q: 간만에 여자친구랑 데이트 하기로 했어.\n",
      "A: <UNK> 좋 은 시간 이 필요 하 죠 .\n",
      "\n",
      "Q: 집에 있는다는 소리야.\n",
      "A: 아프 꼼짝 말 아요 .\n",
      "\n"
     ]
    },
    {
     "data": {
      "application/vnd.jupyter.widget-view+json": {
       "model_id": "ca2aeaac217744feb0727ba87334e9df",
       "version_major": 2,
       "version_minor": 0
      },
      "text/plain": [
       "  0%|          | 0/353 [00:00<?, ?it/s]"
      ]
     },
     "metadata": {},
     "output_type": "display_data"
    },
    {
     "name": "stdout",
     "output_type": "stream",
     "text": [
      "epoch 10 train loss: 0.0648\n",
      "Q: 지루하다, 놀러가고 싶어.\n",
      "A: 아프 꼼짝 말 아요 .\n",
      "\n",
      "Q: 오늘 일찍 일어났더니 피곤하다.\n",
      "A: 마음 이 부유층 어 줄게요 .\n",
      "\n",
      "Q: 간만에 여자친구랑 데이트 하기로 했어.\n",
      "A: <UNK> 도 좋 은 이곳 에 가 보 세요 .\n",
      "\n",
      "Q: 집에 있는다는 소리야.\n",
      "A: 아프 꼼짝 말 아요 .\n",
      "\n"
     ]
    },
    {
     "data": {
      "application/vnd.jupyter.widget-view+json": {
       "model_id": "0eafbdcbba3b46bab404428f12e825a4",
       "version_major": 2,
       "version_minor": 0
      },
      "text/plain": [
       "  0%|          | 0/353 [00:00<?, ?it/s]"
      ]
     },
     "metadata": {},
     "output_type": "display_data"
    },
    {
     "name": "stdout",
     "output_type": "stream",
     "text": [
      "epoch 11 train loss: 0.0637\n",
      "Q: 지루하다, 놀러가고 싶어.\n",
      "A: 아프 꼼짝 말 아요 .\n",
      "\n",
      "Q: 오늘 일찍 일어났더니 피곤하다.\n",
      "A: 힘들 결정 이 었 을 거 라고 생각 해요 .\n",
      "\n",
      "Q: 간만에 여자친구랑 데이트 하기로 했어.\n",
      "A: 잠깐 눈 을 붙여 살펴보 세요 .\n",
      "\n",
      "Q: 집에 있는다는 소리야.\n",
      "A: 아프 꼼짝 말 아요 .\n",
      "\n"
     ]
    },
    {
     "data": {
      "application/vnd.jupyter.widget-view+json": {
       "model_id": "85ff1584a5794083bc05fa10707b50ff",
       "version_major": 2,
       "version_minor": 0
      },
      "text/plain": [
       "  0%|          | 0/353 [00:00<?, ?it/s]"
      ]
     },
     "metadata": {},
     "output_type": "display_data"
    },
    {
     "name": "stdout",
     "output_type": "stream",
     "text": [
      "epoch 12 train loss: 0.0615\n",
      "Q: 지루하다, 놀러가고 싶어.\n",
      "A: 아프 꼼짝 않 는 어야 할 자신 이 아프 네요 .\n",
      "\n",
      "Q: 오늘 일찍 일어났더니 피곤하다.\n",
      "A: 오늘 은 힘내 ㅂ시오 .\n",
      "\n",
      "Q: 간만에 여자친구랑 데이트 하기로 했어.\n",
      "A: 잠깐 눈 이 기 도 하 죠 .\n",
      "\n",
      "Q: 집에 있는다는 소리야.\n",
      "A: 아프 꼼짝 않 는 어야 할 자신 이 아프 네요 .\n",
      "\n"
     ]
    },
    {
     "data": {
      "application/vnd.jupyter.widget-view+json": {
       "model_id": "a1ec7f1b2a774a34b7b3fb4f0ed3cc34",
       "version_major": 2,
       "version_minor": 0
      },
      "text/plain": [
       "  0%|          | 0/353 [00:00<?, ?it/s]"
      ]
     },
     "metadata": {},
     "output_type": "display_data"
    },
    {
     "name": "stdout",
     "output_type": "stream",
     "text": [
      "epoch 13 train loss: 0.0659\n",
      "Q: 지루하다, 놀러가고 싶어.\n",
      "A: 아프 꼼짝 않 는 연습 을 해 보 세요 .\n",
      "\n",
      "Q: 오늘 일찍 일어났더니 피곤하다.\n",
      "A: 많이 아프 었 길 바랄게요 .\n",
      "\n",
      "Q: 간만에 여자친구랑 데이트 하기로 했어.\n",
      "A: 잠시 쉬 <UNK> 도 괜찮 아요 .\n",
      "\n",
      "Q: 집에 있는다는 소리야.\n",
      "A: 아프 꼼짝 않 는 연습 을 해 보 세요 .\n",
      "\n"
     ]
    },
    {
     "data": {
      "application/vnd.jupyter.widget-view+json": {
       "model_id": "48caf7cf24d04697987f4569e7d26462",
       "version_major": 2,
       "version_minor": 0
      },
      "text/plain": [
       "  0%|          | 0/353 [00:00<?, ?it/s]"
      ]
     },
     "metadata": {},
     "output_type": "display_data"
    },
    {
     "name": "stdout",
     "output_type": "stream",
     "text": [
      "epoch 14 train loss: 0.0681\n",
      "Q: 지루하다, 놀러가고 싶어.\n",
      "A: 더 행복 해 지 고자 하 나 봐요 .\n",
      "\n",
      "Q: 오늘 일찍 일어났더니 피곤하다.\n",
      "A: 오늘 은 자신 를 조금 씩 를 하 나 봐요 .\n",
      "\n",
      "Q: 간만에 여자친구랑 데이트 하기로 했어.\n",
      "A: <UNK> 이 없 는 거 죠 .\n",
      "\n",
      "Q: 집에 있는다는 소리야.\n",
      "A: 더 행복 해 지 고자 하 나 봐요 .\n",
      "\n"
     ]
    },
    {
     "data": {
      "application/vnd.jupyter.widget-view+json": {
       "model_id": "db9e0b13f7824085ad249cd3dcb963c4",
       "version_major": 2,
       "version_minor": 0
      },
      "text/plain": [
       "  0%|          | 0/353 [00:00<?, ?it/s]"
      ]
     },
     "metadata": {},
     "output_type": "display_data"
    },
    {
     "name": "stdout",
     "output_type": "stream",
     "text": [
      "epoch 15 train loss: 0.0732\n",
      "Q: 지루하다, 놀러가고 싶어.\n",
      "A: 아프 꼼짝 말 아요 .\n",
      "\n",
      "Q: 오늘 일찍 일어났더니 피곤하다.\n",
      "A: 지금 그러 에요 .\n",
      "\n",
      "Q: 간만에 여자친구랑 데이트 하기로 했어.\n",
      "A: <UNK> 이 없 는 <UNK> 이 에요 .\n",
      "\n",
      "Q: 집에 있는다는 소리야.\n",
      "A: 아프 꼼짝 말 아요 .\n",
      "\n"
     ]
    },
    {
     "data": {
      "application/vnd.jupyter.widget-view+json": {
       "model_id": "b01059564a6e4a2a8965816ee156ad2a",
       "version_major": 2,
       "version_minor": 0
      },
      "text/plain": [
       "  0%|          | 0/353 [00:00<?, ?it/s]"
      ]
     },
     "metadata": {},
     "output_type": "display_data"
    },
    {
     "name": "stdout",
     "output_type": "stream",
     "text": [
      "epoch 16 train loss: 0.0633\n",
      "Q: 지루하다, 놀러가고 싶어.\n",
      "A: 아프 꼼짝 말 아요 .\n",
      "\n",
      "Q: 오늘 일찍 일어났더니 피곤하다.\n",
      "A: 오늘 은 관리 었 을 괜찮 아요 .\n",
      "\n",
      "Q: 간만에 여자친구랑 데이트 하기로 했어.\n",
      "A: 상황 그러 궁금 하 죠 .\n",
      "\n",
      "Q: 집에 있는다는 소리야.\n",
      "A: 아프 꼼짝 말 아요 .\n",
      "\n"
     ]
    },
    {
     "data": {
      "application/vnd.jupyter.widget-view+json": {
       "model_id": "76f1b6b32ce145f499ae9a6da8272d9b",
       "version_major": 2,
       "version_minor": 0
      },
      "text/plain": [
       "  0%|          | 0/353 [00:00<?, ?it/s]"
      ]
     },
     "metadata": {},
     "output_type": "display_data"
    },
    {
     "name": "stdout",
     "output_type": "stream",
     "text": [
      "epoch 17 train loss: 0.0675\n",
      "Q: 지루하다, 놀러가고 싶어.\n",
      "A: 아프 꼼짝 말 아요 .\n",
      "\n",
      "Q: 오늘 일찍 일어났더니 피곤하다.\n",
      "A: 오늘 만큼 수십 동안 고생 했 는데요 .\n",
      "\n",
      "Q: 간만에 여자친구랑 데이트 하기로 했어.\n",
      "A: 휴식 이 불필요 하 죠 .\n",
      "\n",
      "Q: 집에 있는다는 소리야.\n",
      "A: 아프 꼼짝 말 아요 .\n",
      "\n"
     ]
    },
    {
     "data": {
      "application/vnd.jupyter.widget-view+json": {
       "model_id": "b097199b9c664c84bde1e23dff8a0c9e",
       "version_major": 2,
       "version_minor": 0
      },
      "text/plain": [
       "  0%|          | 0/353 [00:00<?, ?it/s]"
      ]
     },
     "metadata": {},
     "output_type": "display_data"
    },
    {
     "name": "stdout",
     "output_type": "stream",
     "text": [
      "epoch 18 train loss: 0.0648\n",
      "Q: 지루하다, 놀러가고 싶어.\n",
      "A: 아프 꼼짝 말 아요 .\n",
      "\n",
      "Q: 오늘 일찍 일어났더니 피곤하다.\n",
      "A: 오늘 동안 고생 했 는데요 .\n",
      "\n",
      "Q: 간만에 여자친구랑 데이트 하기로 했어.\n",
      "A: 좋 은 동작 이 되 지요 .\n",
      "\n",
      "Q: 집에 있는다는 소리야.\n",
      "A: 아프 꼼짝 말 아요 .\n",
      "\n"
     ]
    },
    {
     "data": {
      "application/vnd.jupyter.widget-view+json": {
       "model_id": "dc238cf386244786be95b26c3b578e66",
       "version_major": 2,
       "version_minor": 0
      },
      "text/plain": [
       "  0%|          | 0/353 [00:00<?, ?it/s]"
      ]
     },
     "metadata": {},
     "output_type": "display_data"
    },
    {
     "name": "stdout",
     "output_type": "stream",
     "text": [
      "epoch 19 train loss: 0.0794\n",
      "Q: 지루하다, 놀러가고 싶어.\n",
      "A: 아프 꼼짝 말 아요 .\n",
      "\n",
      "Q: 오늘 일찍 일어났더니 피곤하다.\n",
      "A: 오늘 아요 .\n",
      "\n",
      "Q: 간만에 여자친구랑 데이트 하기로 했어.\n",
      "A: 좋 은 의미 는 이 휴식 도 필요 해요 .\n",
      "\n",
      "Q: 집에 있는다는 소리야.\n",
      "A: 아프 꼼짝 말 아요 .\n",
      "\n"
     ]
    },
    {
     "data": {
      "application/vnd.jupyter.widget-view+json": {
       "model_id": "27c41cc8cfad4b02862484cc8f19e299",
       "version_major": 2,
       "version_minor": 0
      },
      "text/plain": [
       "  0%|          | 0/353 [00:00<?, ?it/s]"
      ]
     },
     "metadata": {},
     "output_type": "display_data"
    },
    {
     "name": "stdout",
     "output_type": "stream",
     "text": [
      "epoch 20 train loss: 0.0734\n",
      "Q: 지루하다, 놀러가고 싶어.\n",
      "A: 아프 꼼짝 말 아요 .\n",
      "\n",
      "Q: 오늘 일찍 일어났더니 피곤하다.\n",
      "A: 내일 은 허전 할 거 들 을 생각 해요 .\n",
      "\n",
      "Q: 간만에 여자친구랑 데이트 하기로 했어.\n",
      "A: 좋 은 타이밍 이 곁 에 있 지 않 은 의미 봐요 .\n",
      "\n",
      "Q: 집에 있는다는 소리야.\n",
      "A: 아프 꼼짝 말 아요 .\n",
      "\n"
     ]
    },
    {
     "data": {
      "application/vnd.jupyter.widget-view+json": {
       "model_id": "92eb7e14721c4e2fb304a8b6c2ecd1e8",
       "version_major": 2,
       "version_minor": 0
      },
      "text/plain": [
       "  0%|          | 0/353 [00:00<?, ?it/s]"
      ]
     },
     "metadata": {},
     "output_type": "display_data"
    },
    {
     "name": "stdout",
     "output_type": "stream",
     "text": [
      "epoch 21 train loss: 0.0654\n",
      "Q: 지루하다, 놀러가고 싶어.\n",
      "A: 자신 으로 향하 지 않 길 바랄게요 .\n",
      "\n",
      "Q: 오늘 일찍 일어났더니 피곤하다.\n",
      "A: 오늘 은데 힘내 지 않 아도 돼요 .\n",
      "\n",
      "Q: 간만에 여자친구랑 데이트 하기로 했어.\n",
      "A: 휴식 이 필요 할 필요 해요 .\n",
      "\n",
      "Q: 집에 있는다는 소리야.\n",
      "A: 자신 으로 향하 지 않 길 바랄게요 .\n",
      "\n"
     ]
    },
    {
     "data": {
      "application/vnd.jupyter.widget-view+json": {
       "model_id": "f7ba8e44a3004d92b184e005d3eb27a1",
       "version_major": 2,
       "version_minor": 0
      },
      "text/plain": [
       "  0%|          | 0/353 [00:00<?, ?it/s]"
      ]
     },
     "metadata": {},
     "output_type": "display_data"
    },
    {
     "name": "stdout",
     "output_type": "stream",
     "text": [
      "epoch 22 train loss: 0.0669\n",
      "Q: 지루하다, 놀러가고 싶어.\n",
      "A: 아프 꼼짝 말 아요 .\n",
      "\n",
      "Q: 오늘 일찍 일어났더니 피곤하다.\n",
      "A: 오늘 은 관리 하 는 방법 들 아요 .\n",
      "\n",
      "Q: 간만에 여자친구랑 데이트 하기로 했어.\n",
      "A: 좋 은 계절 이 에요 .\n",
      "\n",
      "Q: 집에 있는다는 소리야.\n",
      "A: 아프 꼼짝 말 아요 .\n",
      "\n"
     ]
    },
    {
     "data": {
      "application/vnd.jupyter.widget-view+json": {
       "model_id": "77991c6a19bd4582af44aec41d9da37d",
       "version_major": 2,
       "version_minor": 0
      },
      "text/plain": [
       "  0%|          | 0/353 [00:00<?, ?it/s]"
      ]
     },
     "metadata": {},
     "output_type": "display_data"
    },
    {
     "name": "stdout",
     "output_type": "stream",
     "text": [
      "epoch 23 train loss: 0.0753\n",
      "Q: 지루하다, 놀러가고 싶어.\n",
      "A: 아프 꼼짝 말 아요 .\n",
      "\n",
      "Q: 오늘 일찍 일어났더니 피곤하다.\n",
      "A: 오늘 은 마음 이 에요 .\n",
      "\n",
      "Q: 간만에 여자친구랑 데이트 하기로 했어.\n",
      "A: 휴식 이 필요 한가요 .\n",
      "\n",
      "Q: 집에 있는다는 소리야.\n",
      "A: 아프 꼼짝 말 아요 .\n",
      "\n"
     ]
    },
    {
     "data": {
      "application/vnd.jupyter.widget-view+json": {
       "model_id": "550401de38824173af4ba86c6154377e",
       "version_major": 2,
       "version_minor": 0
      },
      "text/plain": [
       "  0%|          | 0/353 [00:00<?, ?it/s]"
      ]
     },
     "metadata": {},
     "output_type": "display_data"
    },
    {
     "name": "stdout",
     "output_type": "stream",
     "text": [
      "epoch 24 train loss: 0.0636\n",
      "Q: 지루하다, 놀러가고 싶어.\n",
      "A: 아프 꼼짝 말 아요 .\n",
      "\n",
      "Q: 오늘 일찍 일어났더니 피곤하다.\n",
      "A: 오늘 은 쉬 를 거 라 생각 해요 .\n",
      "\n",
      "Q: 간만에 여자친구랑 데이트 하기로 했어.\n",
      "A: 좋 은 분간 이 불필요 하 지요 .\n",
      "\n",
      "Q: 집에 있는다는 소리야.\n",
      "A: 아프 꼼짝 말 아요 .\n",
      "\n"
     ]
    },
    {
     "data": {
      "application/vnd.jupyter.widget-view+json": {
       "model_id": "ca819384ecc8421e9c371688aa20a25e",
       "version_major": 2,
       "version_minor": 0
      },
      "text/plain": [
       "  0%|          | 0/353 [00:00<?, ?it/s]"
      ]
     },
     "metadata": {},
     "output_type": "display_data"
    },
    {
     "name": "stdout",
     "output_type": "stream",
     "text": [
      "epoch 25 train loss: 0.0696\n",
      "Q: 지루하다, 놀러가고 싶어.\n",
      "A: 아프 꼼짝 말 아요 .\n",
      "\n",
      "Q: 오늘 일찍 일어났더니 피곤하다.\n",
      "A: 오늘 은 쉬 가 점점 연속 이 에요 .\n",
      "\n",
      "Q: 간만에 여자친구랑 데이트 하기로 했어.\n",
      "A: 좋 은 만남 이 어 잊 는 것 같 아요 .\n",
      "\n",
      "Q: 집에 있는다는 소리야.\n",
      "A: 아프 꼼짝 말 아요 .\n",
      "\n"
     ]
    },
    {
     "data": {
      "application/vnd.jupyter.widget-view+json": {
       "model_id": "eec82297292148959ece545fbe11941d",
       "version_major": 2,
       "version_minor": 0
      },
      "text/plain": [
       "  0%|          | 0/353 [00:00<?, ?it/s]"
      ]
     },
     "metadata": {},
     "output_type": "display_data"
    },
    {
     "name": "stdout",
     "output_type": "stream",
     "text": [
      "epoch 26 train loss: 0.0737\n",
      "Q: 지루하다, 놀러가고 싶어.\n",
      "A: 아프 꼼짝 말 아요 .\n",
      "\n",
      "Q: 오늘 일찍 일어났더니 피곤하다.\n",
      "A: 오늘 은 흘러가 는 슬픔 의 선택 은 아니 에요 .\n",
      "\n",
      "Q: 간만에 여자친구랑 데이트 하기로 했어.\n",
      "A: 좋 은 설정 이 에요 .\n",
      "\n",
      "Q: 집에 있는다는 소리야.\n",
      "A: 아프 꼼짝 말 아요 .\n",
      "\n"
     ]
    },
    {
     "data": {
      "application/vnd.jupyter.widget-view+json": {
       "model_id": "94940a2c85eb4bcea36fefa1324174b0",
       "version_major": 2,
       "version_minor": 0
      },
      "text/plain": [
       "  0%|          | 0/353 [00:00<?, ?it/s]"
      ]
     },
     "metadata": {},
     "output_type": "display_data"
    },
    {
     "name": "stdout",
     "output_type": "stream",
     "text": [
      "epoch 27 train loss: 0.0676\n",
      "Q: 지루하다, 놀러가고 싶어.\n",
      "A: 아프 꼼짝 말 아요 .\n",
      "\n",
      "Q: 오늘 일찍 일어났더니 피곤하다.\n",
      "A: 오늘 은 불필요 하 았 길 바랄게요 .\n",
      "\n",
      "Q: 간만에 여자친구랑 데이트 하기로 했어.\n",
      "A: 휴식 이 불필요 하 죠 .\n",
      "\n",
      "Q: 집에 있는다는 소리야.\n",
      "A: 아프 꼼짝 말 아요 .\n",
      "\n"
     ]
    },
    {
     "data": {
      "application/vnd.jupyter.widget-view+json": {
       "model_id": "78b4f9b457a14f2480b6aa652ec915a1",
       "version_major": 2,
       "version_minor": 0
      },
      "text/plain": [
       "  0%|          | 0/353 [00:00<?, ?it/s]"
      ]
     },
     "metadata": {},
     "output_type": "display_data"
    },
    {
     "name": "stdout",
     "output_type": "stream",
     "text": [
      "epoch 28 train loss: 0.0617\n",
      "Q: 지루하다, 놀러가고 싶어.\n",
      "A: 아프 꼼짝 말 아요 .\n",
      "\n",
      "Q: 오늘 일찍 일어났더니 피곤하다.\n",
      "A: 언젠간 당신 을 <UNK> 다가 천천히 깃털 어 보 세요 .\n",
      "\n",
      "Q: 간만에 여자친구랑 데이트 하기로 했어.\n",
      "A: 서로 에게 괜찮 아요 .\n",
      "\n",
      "Q: 집에 있는다는 소리야.\n",
      "A: 아프 꼼짝 말 아요 .\n",
      "\n"
     ]
    },
    {
     "data": {
      "application/vnd.jupyter.widget-view+json": {
       "model_id": "35042e8e3bdd4a909b98fe049f517cef",
       "version_major": 2,
       "version_minor": 0
      },
      "text/plain": [
       "  0%|          | 0/353 [00:00<?, ?it/s]"
      ]
     },
     "metadata": {},
     "output_type": "display_data"
    },
    {
     "name": "stdout",
     "output_type": "stream",
     "text": [
      "epoch 29 train loss: 0.0610\n",
      "Q: 지루하다, 놀러가고 싶어.\n",
      "A: 아프 꼼짝 말 아요 .\n",
      "\n",
      "Q: 오늘 일찍 일어났더니 피곤하다.\n",
      "A: 언젠간 당신 을 는데요 .\n",
      "\n",
      "Q: 간만에 여자친구랑 데이트 하기로 했어.\n",
      "A: 좋 은 사람 이 찾아오 죠 .\n",
      "\n",
      "Q: 집에 있는다는 소리야.\n",
      "A: 아프 꼼짝 말 아요 .\n",
      "\n"
     ]
    },
    {
     "data": {
      "application/vnd.jupyter.widget-view+json": {
       "model_id": "5eccb3530555401f975f4beb11c9fadb",
       "version_major": 2,
       "version_minor": 0
      },
      "text/plain": [
       "  0%|          | 0/353 [00:00<?, ?it/s]"
      ]
     },
     "metadata": {},
     "output_type": "display_data"
    },
    {
     "name": "stdout",
     "output_type": "stream",
     "text": [
      "epoch 30 train loss: 0.0558\n",
      "Q: 지루하다, 놀러가고 싶어.\n",
      "A: 아프 꼼짝 말 아요 .\n",
      "\n",
      "Q: 오늘 일찍 일어났더니 피곤하다.\n",
      "A: 언젠간 당신 을 좋아해 하 길 바랄게요 .\n",
      "\n",
      "Q: 간만에 여자친구랑 데이트 하기로 했어.\n",
      "A: 때쯤 는 으로서 는 건과 없 을 거 예요 .\n",
      "\n",
      "Q: 집에 있는다는 소리야.\n",
      "A: 아프 꼼짝 말 아요 .\n",
      "\n"
     ]
    },
    {
     "data": {
      "application/vnd.jupyter.widget-view+json": {
       "model_id": "b77415a63a4a47ae8431aed0018752bc",
       "version_major": 2,
       "version_minor": 0
      },
      "text/plain": [
       "  0%|          | 0/353 [00:00<?, ?it/s]"
      ]
     },
     "metadata": {},
     "output_type": "display_data"
    },
    {
     "name": "stdout",
     "output_type": "stream",
     "text": [
      "epoch 31 train loss: 0.0516\n",
      "Q: 지루하다, 놀러가고 싶어.\n",
      "A: 아프 꼼짝 말 아요 .\n",
      "\n",
      "Q: 오늘 일찍 일어났더니 피곤하다.\n",
      "A: 언젠간 당신 을 좋아해 하 길 바랄게요 .\n",
      "\n",
      "Q: 간만에 여자친구랑 데이트 하기로 했어.\n",
      "A: 어떤 일 이 불필요 할 수 없 어요 .\n",
      "\n",
      "Q: 집에 있는다는 소리야.\n",
      "A: 아프 꼼짝 말 아요 .\n",
      "\n"
     ]
    },
    {
     "data": {
      "application/vnd.jupyter.widget-view+json": {
       "model_id": "aad5182201de405da131533bfb680f2e",
       "version_major": 2,
       "version_minor": 0
      },
      "text/plain": [
       "  0%|          | 0/353 [00:00<?, ?it/s]"
      ]
     },
     "metadata": {},
     "output_type": "display_data"
    },
    {
     "name": "stdout",
     "output_type": "stream",
     "text": [
      "epoch 32 train loss: 0.0451\n",
      "Q: 지루하다, 놀러가고 싶어.\n",
      "A: 아프 꼼짝 말 아요 .\n",
      "\n",
      "Q: 오늘 일찍 일어났더니 피곤하다.\n",
      "A: 마음 이 허전 시키 시 군요 .\n",
      "\n",
      "Q: 간만에 여자친구랑 데이트 하기로 했어.\n",
      "A: 좋 은 슬픔 받 고 있 는 거 죠 .\n",
      "\n",
      "Q: 집에 있는다는 소리야.\n",
      "A: 아프 꼼짝 말 아요 .\n",
      "\n"
     ]
    },
    {
     "data": {
      "application/vnd.jupyter.widget-view+json": {
       "model_id": "55242df63a1b47378d0750e69a6c6083",
       "version_major": 2,
       "version_minor": 0
      },
      "text/plain": [
       "  0%|          | 0/353 [00:00<?, ?it/s]"
      ]
     },
     "metadata": {},
     "output_type": "display_data"
    },
    {
     "name": "stdout",
     "output_type": "stream",
     "text": [
      "epoch 33 train loss: 0.0428\n",
      "Q: 지루하다, 놀러가고 싶어.\n",
      "A: 아프 꼼짝 말 아요 .\n",
      "\n",
      "Q: 오늘 일찍 일어났더니 피곤하다.\n",
      "A: 언젠간 닥쳐올 순간 이 었 을 것 같 아요 .\n",
      "\n",
      "Q: 간만에 여자친구랑 데이트 하기로 했어.\n",
      "A: 좋 은 슬픔 도 당신 이 부러워요 .\n",
      "\n",
      "Q: 집에 있는다는 소리야.\n",
      "A: 아프 꼼짝 말 아요 .\n",
      "\n"
     ]
    },
    {
     "data": {
      "application/vnd.jupyter.widget-view+json": {
       "model_id": "0e61118b61b840708afbcb9ccb312e62",
       "version_major": 2,
       "version_minor": 0
      },
      "text/plain": [
       "  0%|          | 0/353 [00:00<?, ?it/s]"
      ]
     },
     "metadata": {},
     "output_type": "display_data"
    },
    {
     "name": "stdout",
     "output_type": "stream",
     "text": [
      "epoch 34 train loss: 0.0445\n",
      "Q: 지루하다, 놀러가고 싶어.\n",
      "A: 아프 꼼짝 말 아요 .\n",
      "\n",
      "Q: 오늘 일찍 일어났더니 피곤하다.\n",
      "A: 오늘 은 변동 의 괴로움 에서 쉬 세요 .\n",
      "\n",
      "Q: 간만에 여자친구랑 데이트 하기로 했어.\n",
      "A: 잠시 쉬 어가 도 괜찮 은데요 .\n",
      "\n",
      "Q: 집에 있는다는 소리야.\n",
      "A: 아프 꼼짝 말 아요 .\n",
      "\n"
     ]
    },
    {
     "data": {
      "application/vnd.jupyter.widget-view+json": {
       "model_id": "769615e96f10478cb081a1ee2e1f065a",
       "version_major": 2,
       "version_minor": 0
      },
      "text/plain": [
       "  0%|          | 0/353 [00:00<?, ?it/s]"
      ]
     },
     "metadata": {},
     "output_type": "display_data"
    },
    {
     "name": "stdout",
     "output_type": "stream",
     "text": [
      "epoch 35 train loss: 0.0396\n",
      "Q: 지루하다, 놀러가고 싶어.\n",
      "A: 아프 꼼짝 말 아요 .\n",
      "\n",
      "Q: 오늘 일찍 일어났더니 피곤하다.\n",
      "A: 동안 고생 했 는데요 .\n",
      "\n",
      "Q: 간만에 여자친구랑 데이트 하기로 했어.\n",
      "A: 떨 고 있 기 전 에 는 것 도 좋 아요 .\n",
      "\n",
      "Q: 집에 있는다는 소리야.\n",
      "A: 아프 꼼짝 말 아요 .\n",
      "\n"
     ]
    },
    {
     "data": {
      "application/vnd.jupyter.widget-view+json": {
       "model_id": "31ea762623034d6ca4ecc97537162da3",
       "version_major": 2,
       "version_minor": 0
      },
      "text/plain": [
       "  0%|          | 0/353 [00:00<?, ?it/s]"
      ]
     },
     "metadata": {},
     "output_type": "display_data"
    },
    {
     "name": "stdout",
     "output_type": "stream",
     "text": [
      "epoch 36 train loss: 0.0382\n",
      "Q: 지루하다, 놀러가고 싶어.\n",
      "A: 아프 꼼짝 말 아요 .\n",
      "\n",
      "Q: 오늘 일찍 일어났더니 피곤하다.\n",
      "A: 오늘 은 추억 만 의 선택 에서 멀 에요 .\n",
      "\n",
      "Q: 간만에 여자친구랑 데이트 하기로 했어.\n",
      "A: 떨 이 없었 는 거 같 아요 .\n",
      "\n",
      "Q: 집에 있는다는 소리야.\n",
      "A: 아프 꼼짝 말 아요 .\n",
      "\n"
     ]
    },
    {
     "data": {
      "application/vnd.jupyter.widget-view+json": {
       "model_id": "84c474bc0f754792b8516d24aad61cc4",
       "version_major": 2,
       "version_minor": 0
      },
      "text/plain": [
       "  0%|          | 0/353 [00:00<?, ?it/s]"
      ]
     },
     "metadata": {},
     "output_type": "display_data"
    },
    {
     "name": "stdout",
     "output_type": "stream",
     "text": [
      "epoch 37 train loss: 0.0365\n",
      "Q: 지루하다, 놀러가고 싶어.\n",
      "A: 아프 꼼짝 말 아요 .\n",
      "\n",
      "Q: 오늘 일찍 일어났더니 피곤하다.\n",
      "A: 오늘 은 항상 힘들 어요 .\n",
      "\n",
      "Q: 간만에 여자친구랑 데이트 하기로 했어.\n",
      "A: 좋 은 경험 이 없 을 거 예요 .\n",
      "\n",
      "Q: 집에 있는다는 소리야.\n",
      "A: 아프 꼼짝 말 아요 .\n",
      "\n"
     ]
    },
    {
     "data": {
      "application/vnd.jupyter.widget-view+json": {
       "model_id": "b76221d3617f4a0687b5bf082933aefc",
       "version_major": 2,
       "version_minor": 0
      },
      "text/plain": [
       "  0%|          | 0/353 [00:00<?, ?it/s]"
      ]
     },
     "metadata": {},
     "output_type": "display_data"
    },
    {
     "name": "stdout",
     "output_type": "stream",
     "text": [
      "epoch 38 train loss: 0.0345\n",
      "Q: 지루하다, 놀러가고 싶어.\n",
      "A: 아프 꼼짝 말 아요 .\n",
      "\n",
      "Q: 오늘 일찍 일어났더니 피곤하다.\n",
      "A: 오늘 은 쉬 였 길 바랄게요 .\n",
      "\n",
      "Q: 간만에 여자친구랑 데이트 하기로 했어.\n",
      "A: 휴식 그러 찾아오 길 .\n",
      "\n",
      "Q: 집에 있는다는 소리야.\n",
      "A: 아프 꼼짝 말 아요 .\n",
      "\n"
     ]
    },
    {
     "data": {
      "application/vnd.jupyter.widget-view+json": {
       "model_id": "e4ef28b32ffb40f99cf2a7e843990aa3",
       "version_major": 2,
       "version_minor": 0
      },
      "text/plain": [
       "  0%|          | 0/353 [00:00<?, ?it/s]"
      ]
     },
     "metadata": {},
     "output_type": "display_data"
    },
    {
     "name": "stdout",
     "output_type": "stream",
     "text": [
      "epoch 39 train loss: 0.0335\n",
      "Q: 지루하다, 놀러가고 싶어.\n",
      "A: 아프 꼼짝 말 아요 .\n",
      "\n",
      "Q: 오늘 일찍 일어났더니 피곤하다.\n",
      "A: 오늘 은 쉬 었 다가 가 세요 .\n",
      "\n",
      "Q: 간만에 여자친구랑 데이트 하기로 했어.\n",
      "A: 휴식 그러 찾아오 구불구불 바랄게요 .\n",
      "\n",
      "Q: 집에 있는다는 소리야.\n",
      "A: 아프 꼼짝 말 아요 .\n",
      "\n"
     ]
    },
    {
     "data": {
      "application/vnd.jupyter.widget-view+json": {
       "model_id": "ef2090f456a9489b9578d4c0cc1539f3",
       "version_major": 2,
       "version_minor": 0
      },
      "text/plain": [
       "  0%|          | 0/353 [00:00<?, ?it/s]"
      ]
     },
     "metadata": {},
     "output_type": "display_data"
    },
    {
     "name": "stdout",
     "output_type": "stream",
     "text": [
      "epoch 40 train loss: 0.0338\n",
      "Q: 지루하다, 놀러가고 싶어.\n",
      "A: 아프 꼼짝 말 아요 .\n",
      "\n",
      "Q: 오늘 일찍 일어났더니 피곤하다.\n",
      "A: 오늘 은 변동 의 슬픔 이 었 나요 .\n",
      "\n",
      "Q: 간만에 여자친구랑 데이트 하기로 했어.\n",
      "A: 좋 은 설정 이 죠 .\n",
      "\n",
      "Q: 집에 있는다는 소리야.\n",
      "A: 아프 꼼짝 말 아요 .\n",
      "\n"
     ]
    },
    {
     "data": {
      "application/vnd.jupyter.widget-view+json": {
       "model_id": "77f4cdf2e1b842659cb4392c0599ea24",
       "version_major": 2,
       "version_minor": 0
      },
      "text/plain": [
       "  0%|          | 0/353 [00:00<?, ?it/s]"
      ]
     },
     "metadata": {},
     "output_type": "display_data"
    },
    {
     "name": "stdout",
     "output_type": "stream",
     "text": [
      "epoch 41 train loss: 0.0383\n",
      "Q: 지루하다, 놀러가고 싶어.\n",
      "A: 아프 꼼짝 말 아요 .\n",
      "\n",
      "Q: 오늘 일찍 일어났더니 피곤하다.\n",
      "A: 오늘 은 변동 의 슬픔 에 증상 그러 에요 .\n",
      "\n",
      "Q: 간만에 여자친구랑 데이트 하기로 했어.\n",
      "A: 그 애 에 는 귀 를 기울여 봐요 .\n",
      "\n",
      "Q: 집에 있는다는 소리야.\n",
      "A: 아프 꼼짝 말 아요 .\n",
      "\n"
     ]
    },
    {
     "data": {
      "application/vnd.jupyter.widget-view+json": {
       "model_id": "b3e299c486b745aa85cedfa24462cf67",
       "version_major": 2,
       "version_minor": 0
      },
      "text/plain": [
       "  0%|          | 0/353 [00:00<?, ?it/s]"
      ]
     },
     "metadata": {},
     "output_type": "display_data"
    },
    {
     "name": "stdout",
     "output_type": "stream",
     "text": [
      "epoch 42 train loss: 0.0368\n",
      "Q: 지루하다, 놀러가고 싶어.\n",
      "A: 아프 꼼짝 말 아요 .\n",
      "\n",
      "Q: 오늘 일찍 일어났더니 피곤하다.\n",
      "A: 오늘 은 변동 의 선택 이 었 을 거 라 생각 해요 .\n",
      "\n",
      "Q: 간만에 여자친구랑 데이트 하기로 했어.\n",
      "A: 발르 네요 .\n",
      "\n",
      "Q: 집에 있는다는 소리야.\n",
      "A: 아프 꼼짝 말 아요 .\n",
      "\n"
     ]
    },
    {
     "data": {
      "application/vnd.jupyter.widget-view+json": {
       "model_id": "8d9b8c902040492cba3a03f43d560042",
       "version_major": 2,
       "version_minor": 0
      },
      "text/plain": [
       "  0%|          | 0/353 [00:00<?, ?it/s]"
      ]
     },
     "metadata": {},
     "output_type": "display_data"
    },
    {
     "name": "stdout",
     "output_type": "stream",
     "text": [
      "epoch 43 train loss: 0.0409\n",
      "Q: 지루하다, 놀러가고 싶어.\n",
      "A: 아프 꼼짝 말 아요 .\n",
      "\n",
      "Q: 오늘 일찍 일어났더니 피곤하다.\n",
      "A: 오늘 은 그냥 뒹굴 뒹글 같이 이런 거 예요 .\n",
      "\n",
      "Q: 간만에 여자친구랑 데이트 하기로 했어.\n",
      "A: 이라고 하 지 도 않 고 사랑 은 젊은이 이 에요 .\n",
      "\n",
      "Q: 집에 있는다는 소리야.\n",
      "A: 아프 꼼짝 말 아요 .\n",
      "\n"
     ]
    },
    {
     "data": {
      "application/vnd.jupyter.widget-view+json": {
       "model_id": "055d6fc899924727a385869e1aaca53f",
       "version_major": 2,
       "version_minor": 0
      },
      "text/plain": [
       "  0%|          | 0/353 [00:00<?, ?it/s]"
      ]
     },
     "metadata": {},
     "output_type": "display_data"
    },
    {
     "name": "stdout",
     "output_type": "stream",
     "text": [
      "epoch 44 train loss: 0.0384\n",
      "Q: 지루하다, 놀러가고 싶어.\n",
      "A: 아프 꼼짝 말 아요 .\n",
      "\n",
      "Q: 오늘 일찍 일어났더니 피곤하다.\n",
      "A: 오늘 은 그냥 뒹굴 뒹글 같이 변동 해 보 세요 .\n",
      "\n",
      "Q: 간만에 여자친구랑 데이트 하기로 했어.\n",
      "A: 그 사람 도 당신 이 아프 네요 .\n",
      "\n",
      "Q: 집에 있는다는 소리야.\n",
      "A: 아프 꼼짝 말 아요 .\n",
      "\n"
     ]
    },
    {
     "data": {
      "application/vnd.jupyter.widget-view+json": {
       "model_id": "890d19027a1d4221b1e0ed8be74a5959",
       "version_major": 2,
       "version_minor": 0
      },
      "text/plain": [
       "  0%|          | 0/353 [00:00<?, ?it/s]"
      ]
     },
     "metadata": {},
     "output_type": "display_data"
    },
    {
     "name": "stdout",
     "output_type": "stream",
     "text": [
      "epoch 45 train loss: 0.0397\n",
      "Q: 지루하다, 놀러가고 싶어.\n",
      "A: 아프 꼼짝 말 아요 .\n",
      "\n",
      "Q: 오늘 일찍 일어났더니 피곤하다.\n",
      "A: 언젠간 친분 이 었 나 봐요 .\n",
      "\n",
      "Q: 간만에 여자친구랑 데이트 하기로 했어.\n",
      "A: 그 사람 도 당신 의 불필요 함 이 필요 해요 .\n",
      "\n",
      "Q: 집에 있는다는 소리야.\n",
      "A: 아프 꼼짝 말 아요 .\n",
      "\n"
     ]
    },
    {
     "data": {
      "application/vnd.jupyter.widget-view+json": {
       "model_id": "bacee629a56e4c8e92166cf0dddf25b6",
       "version_major": 2,
       "version_minor": 0
      },
      "text/plain": [
       "  0%|          | 0/353 [00:00<?, ?it/s]"
      ]
     },
     "metadata": {},
     "output_type": "display_data"
    },
    {
     "name": "stdout",
     "output_type": "stream",
     "text": [
      "epoch 46 train loss: 0.0407\n",
      "Q: 지루하다, 놀러가고 싶어.\n",
      "A: 아프 꼼짝 말 아요 .\n",
      "\n",
      "Q: 오늘 일찍 일어났더니 피곤하다.\n",
      "A: 언젠간 인연 이 였 나 봐요 .\n",
      "\n",
      "Q: 간만에 여자친구랑 데이트 하기로 했어.\n",
      "A: 그 사람 도 당신 의 인연 이 필요 해요 .\n",
      "\n",
      "Q: 집에 있는다는 소리야.\n",
      "A: 아프 꼼짝 말 아요 .\n",
      "\n"
     ]
    },
    {
     "data": {
      "application/vnd.jupyter.widget-view+json": {
       "model_id": "01f7b972874941ffa3bba43ed3171060",
       "version_major": 2,
       "version_minor": 0
      },
      "text/plain": [
       "  0%|          | 0/353 [00:00<?, ?it/s]"
      ]
     },
     "metadata": {},
     "output_type": "display_data"
    },
    {
     "name": "stdout",
     "output_type": "stream",
     "text": [
      "epoch 47 train loss: 0.0397\n",
      "Q: 지루하다, 놀러가고 싶어.\n",
      "A: 아프 꼼짝 말 아요 .\n",
      "\n",
      "Q: 오늘 일찍 일어났더니 피곤하다.\n",
      "A: 언젠간 잊혀질 거 라 생각 해요 .\n",
      "\n",
      "Q: 간만에 여자친구랑 데이트 하기로 했어.\n",
      "A: 그 사람 의 능력 이 죠 .\n",
      "\n",
      "Q: 집에 있는다는 소리야.\n",
      "A: 아프 꼼짝 말 아요 .\n",
      "\n"
     ]
    },
    {
     "data": {
      "application/vnd.jupyter.widget-view+json": {
       "model_id": "34242040c5de49e6b8ac99b080c1df25",
       "version_major": 2,
       "version_minor": 0
      },
      "text/plain": [
       "  0%|          | 0/353 [00:00<?, ?it/s]"
      ]
     },
     "metadata": {},
     "output_type": "display_data"
    },
    {
     "name": "stdout",
     "output_type": "stream",
     "text": [
      "epoch 48 train loss: 0.0352\n",
      "Q: 지루하다, 놀러가고 싶어.\n",
      "A: 아프 꼼짝 말 아요 .\n",
      "\n",
      "Q: 오늘 일찍 일어났더니 피곤하다.\n",
      "A: 언젠간 잊혀질 거 라 생각 해요 .\n",
      "\n",
      "Q: 간만에 여자친구랑 데이트 하기로 했어.\n",
      "A: 성공 시키 길 바랄게요 .\n",
      "\n",
      "Q: 집에 있는다는 소리야.\n",
      "A: 아프 꼼짝 말 아요 .\n",
      "\n"
     ]
    },
    {
     "data": {
      "application/vnd.jupyter.widget-view+json": {
       "model_id": "0c9ae7d830a64f84b20f68c1451a1e20",
       "version_major": 2,
       "version_minor": 0
      },
      "text/plain": [
       "  0%|          | 0/353 [00:00<?, ?it/s]"
      ]
     },
     "metadata": {},
     "output_type": "display_data"
    },
    {
     "name": "stdout",
     "output_type": "stream",
     "text": [
      "epoch 49 train loss: 0.0349\n",
      "Q: 지루하다, 놀러가고 싶어.\n",
      "A: 아프 꼼짝 말 아요 .\n",
      "\n",
      "Q: 오늘 일찍 일어났더니 피곤하다.\n",
      "A: 언젠간 친분 이 었 길 바랄게요 .\n",
      "\n",
      "Q: 간만에 여자친구랑 데이트 하기로 했어.\n",
      "A: 발르 는 편 이 휴식 이 필요 하 죠 .\n",
      "\n",
      "Q: 집에 있는다는 소리야.\n",
      "A: 아프 꼼짝 말 아요 .\n",
      "\n"
     ]
    },
    {
     "data": {
      "application/vnd.jupyter.widget-view+json": {
       "model_id": "58704b227c244a8e9c2431a251a083d1",
       "version_major": 2,
       "version_minor": 0
      },
      "text/plain": [
       "  0%|          | 0/353 [00:00<?, ?it/s]"
      ]
     },
     "metadata": {},
     "output_type": "display_data"
    },
    {
     "name": "stdout",
     "output_type": "stream",
     "text": [
      "epoch 50 train loss: 0.0377\n",
      "Q: 지루하다, 놀러가고 싶어.\n",
      "A: 아프 꼼짝 말 아요 .\n",
      "\n",
      "Q: 오늘 일찍 일어났더니 피곤하다.\n",
      "A: 내일 은 같이 아래 들 을 거 예요 .\n",
      "\n",
      "Q: 간만에 여자친구랑 데이트 하기로 했어.\n",
      "A: 발르 는 게 가장 중요 하 죠 .\n",
      "\n",
      "Q: 집에 있는다는 소리야.\n",
      "A: 아프 꼼짝 말 아요 .\n",
      "\n"
     ]
    }
   ],
   "source": [
    "EPOCHS = 50\n",
    "for epoch in range(EPOCHS):\n",
    "    total_loss = 0\n",
    "    \n",
    "    dataset_count = tf.data.experimental.cardinality(train_dataset).numpy()\n",
    "    tqdm_bar = tqdm(total=dataset_count)\n",
    "    for src, tgt in train_dataset:\n",
    "        loss, enc_attns, dec_attns, dec_enc_attnss = train_step(src, tgt, transformer, optimizer)\n",
    "        total_loss += loss\n",
    "        tqdm_bar.update(1)\n",
    "    print(f\"epoch {epoch + 1} train loss: {(total_loss / dataset_count):.4f}\")\n",
    "    generate_answer()\n",
    "    tqdm_bar.close()"
   ]
  },
  {
   "attachments": {
    "image-2.png": {
     "image/png": "[encoded data removed]"
    },
    "image.png": {
     "image/png": "[encoded data removed]"
    }
   },
   "cell_type": "markdown",
   "id": "ca8528f9",
   "metadata": {},
   "source": [
    "# 회고\n",
    "epoch을 처음에 30번 두번째 때 50번  총 80번 돌려봤는데   \n",
    "두번째 21번이 그나마 잘나온거 같다  ![image.png](attachment:image.png)\n",
    "loss는 진행하는동안 계속 감소하는것을 확인하였다. Lexical Substitution 데이터 증강이 문제였을까 아니면 전처리 문제였을까 다시한번 생각해서 해보아야겠다. \n",
    "또 첫번째와 네번째 질문에서 자꾸 아프 꼼짝 말 아요. 라는 같은 결과값이 나오는데 이것에 대한 문제점은 아직 잘 모르겠다... \n",
    "![image-2.png](attachment:image-2.png)\n"
   ]
  },
  {
   "cell_type": "code",
   "execution_count": null,
   "id": "1f838236",
   "metadata": {},
   "outputs": [],
   "source": []
  }
 ],
 "metadata": {
  "kernelspec": {
   "display_name": "Python 3 (ipykernel)",
   "language": "python",
   "name": "python3"
  },
  "language_info": {
   "codemirror_mode": {
    "name": "ipython",
    "version": 3
   },
   "file_extension": ".py",
   "mimetype": "text/x-python",
   "name": "python",
   "nbconvert_exporter": "python",
   "pygments_lexer": "ipython3",
   "version": "3.9.7"
  }
 },
 "nbformat": 4,
 "nbformat_minor": 5
}
