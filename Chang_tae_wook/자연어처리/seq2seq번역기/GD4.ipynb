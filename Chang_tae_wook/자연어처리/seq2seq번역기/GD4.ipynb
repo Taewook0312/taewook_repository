{
 "cells": [
  {
   "cell_type": "markdown",
   "id": "e93c8602",
   "metadata": {},
   "source": [
    "# 프로젝트: 한영 번역기 만들기"
   ]
  },
  {
   "cell_type": "markdown",
   "id": "01bff112",
   "metadata": {},
   "source": [
    "## 데이터 불러오기"
   ]
  },
  {
   "cell_type": "code",
   "execution_count": 1,
   "id": "75883880",
   "metadata": {},
   "outputs": [
    {
     "name": "stdout",
     "output_type": "stream",
     "text": [
      "2.6.0\n"
     ]
    }
   ],
   "source": [
    "# 프로젝트에 사용될 라이브러리 import\n",
    "import tensorflow as tf\n",
    "import numpy as np\n",
    "\n",
    "import matplotlib.ticker as ticker\n",
    "\n",
    "import time\n",
    "import re\n",
    "import os\n",
    "import io\n",
    "\n",
    "import pandas as pd\n",
    "import urllib.request\n",
    "from konlpy.tag import Okt\n",
    "from tensorflow import keras\n",
    "import tensorflow as tf\n",
    "from tensorflow.keras.preprocessing.text import Tokenizer\n",
    "import numpy as np\n",
    "from tensorflow.keras.preprocessing.sequence import pad_sequences\n",
    "from collections import Counter\n",
    "\n",
    "print(tf.__version__)"
   ]
  },
  {
   "cell_type": "code",
   "execution_count": 2,
   "id": "15b9b1d0",
   "metadata": {
    "scrolled": true
   },
   "outputs": [
    {
     "name": "stdout",
     "output_type": "stream",
     "text": [
      "Data Size: 94123\n",
      "Data Size: 94123\n",
      "Example:\n",
      ">> 개인용 컴퓨터 사용의 상당 부분은 \"이것보다 뛰어날 수 있느냐?\" Much of personal computing is about \"can you top this?\"\n",
      ">> 북한의 핵무기 계획을 포기하도록 하려는 압력이 거세지고 있는 가운데, 일본과 북한의 외교관들이 외교 관계를 정상화하려는 회담을 재개했다. Amid mounting pressure on North Korea to abandon its nuclear weapons program Japanese and North Korean diplomats have resumed talks on normalizing diplomatic relations.\n",
      ">> \"경호 로보트가 침입자나 화재를 탐지하기 위해서 개인적으로, 그리고 전문적으로 사용되고 있습니다.\" “Guard robots are used privately and professionally to detect intruders or fire,” Karlsson said.\n",
      ">> 수자원부 당국은 논란이 되고 있고, 막대한 비용이 드는 이 사업에 대해 내년에 건설을 시작할 계획이다. Authorities from the Water Resources Ministry plan to begin construction next year on the controversial and hugely expensive project.\n",
      ">> 또한 근력 운동은 활발하게 걷는 것이나 최소한 20분 동안 뛰는 것과 같은 유산소 활동에서 얻는 운동 효과를 심장과 폐에 주지 않기 때문에, 연구학자들은 근력 운동이 심장에 큰 영향을 미치는지 여부에 대해 논쟁을 해왔다. Researchers also have debated whether weight-training has a big impact on the heart, since it does not give the heart and lungs the kind of workout they get from aerobic activities such as brisk walking or running for at least 20 minutes.\n"
     ]
    }
   ],
   "source": [
    "path_to_file = os.getenv('HOME')+'/korean-english-park.train.ko'\n",
    "\n",
    "with open(path_to_file, \"r\") as f:\n",
    "    raw_ko = f.read().splitlines()\n",
    "\n",
    "path_to_file = os.getenv('HOME')+'/korean-english-park.train.en'\n",
    "\n",
    "with open(path_to_file, \"r\") as f:\n",
    "    raw_en = f.read().splitlines()\n",
    "    \n",
    "print(\"Data Size:\", len(raw_ko))\n",
    "print(\"Data Size:\", len(raw_en))\n",
    "\n",
    "print(\"Example:\")\n",
    "for sen_ko, sen_en in zip(raw_ko[0:100][::20], raw_en[0:100][::20]): \n",
    "    print(\">>\", sen_ko, sen_en)"
   ]
  },
  {
   "cell_type": "markdown",
   "id": "c191f107",
   "metadata": {},
   "source": [
    "### 전처리 "
   ]
  },
  {
   "cell_type": "code",
   "execution_count": 3,
   "id": "dbd8df18",
   "metadata": {},
   "outputs": [],
   "source": [
    "#중복치 제거 및 리스트로 만들기 \n",
    "cleaned_corpus = list(set(zip(raw_ko, raw_en)))"
   ]
  },
  {
   "cell_type": "code",
   "execution_count": 4,
   "id": "96472638",
   "metadata": {},
   "outputs": [
    {
     "name": "stdout",
     "output_type": "stream",
     "text": [
      "78968\n"
     ]
    }
   ],
   "source": [
    "print(len(cleaned_corpus))"
   ]
  },
  {
   "cell_type": "code",
   "execution_count": 5,
   "id": "ff7a190f",
   "metadata": {},
   "outputs": [],
   "source": [
    "# 한글과 영어로 나누기 \n",
    "clean_corpus_ko = []\n",
    "clean_corpus_eng = []\n",
    "\n",
    "for i in range(len(cleaned_corpus)):\n",
    "    clean_corpus_ko.append(cleaned_corpus[i][0])\n",
    "\n",
    "for i in range(len(cleaned_corpus)):\n",
    "    clean_corpus_eng.append(cleaned_corpus[i][1])  "
   ]
  },
  {
   "cell_type": "code",
   "execution_count": 6,
   "id": "65a37668",
   "metadata": {
    "scrolled": false
   },
   "outputs": [
    {
     "name": "stdout",
     "output_type": "stream",
     "text": [
      "['“노장인 커트 워너가 이긴 셈입니다.', \"이 네트워크는 오로지 '리사'라는 기증자의 신원만을 공개했다.\", '한편 김옥수 탐사계획단장은 분쟁 해역 진입 시점은 날씨 상황에 달려 있다고 밝혔다.']\n",
      "['“The old guy, Warner, almost won.', 'The network identified the donor only as \"Lisa.\"', 'It is scheduled to conduct its survey in mid-July, although Kim Ok-Soo, a chief survey planner, said the date the ship actually enters disputed territory will depend on weather conditions.']\n"
     ]
    }
   ],
   "source": [
    "print(clean_corpus_ko[:3])\n",
    "print(clean_corpus_eng[:3])"
   ]
  },
  {
   "cell_type": "markdown",
   "id": "903e2dfe",
   "metadata": {},
   "source": [
    "from konlpy.tag import Mecab\n",
    "tokenizer = Mecab()\n",
    "\n",
    "def preprocess_sentence_ko(sentence, s_token=False, e_token=False):\n",
    "    sentence = sentence.lower().strip()\n",
    "\n",
    "    sentence = re.sub(r\"([?.!,])\", r\" \\1 \", sentence)\n",
    "    sentence = re.sub(r'[\" \"]+', \" \", sentence)\n",
    "    sentence = re.sub(r\"[^ㄱ-ㅎㅏ-ㅣ가-힣 a-z A-Z?.!,]+\", \" \", sentence)\n",
    "\n",
    "    sentence = sentence.strip()\n",
    "\n",
    "    sentence = tokenizer.morphs(sentence)\n",
    "    \n",
    "    return sentence\n",
    "\n",
    "def preprocess_sentence_en(sentence, s_token=False, e_token=False):\n",
    "    sentence = sentence.lower().strip()\n",
    "\n",
    "    sentence = re.sub(r\"([?.!,])\", r\" \\1 \", sentence)\n",
    "    sentence = re.sub(r'[\" \"]+', \" \", sentence)\n",
    "    sentence = re.sub(r\"[^ㄱ-ㅎㅏ-ㅣ가-힣 a-z A-Z?.!,]+\", \" \", sentence)\n",
    "\n",
    "    sentence = sentence.strip()\n",
    "\n",
    "    if s_token:\n",
    "        sentence = ' ' + sentence\n",
    "\n",
    "    if e_token:\n",
    "        sentence += ' '\n",
    "    \n",
    "    sentence = sentence.split()\n",
    "    \n",
    "    return sentence"
   ]
  },
  {
   "cell_type": "markdown",
   "id": "8c9de234",
   "metadata": {},
   "source": [
    "max_len = 40\n",
    "\n",
    "enc_corpus = []\n",
    "dec_corpus = []\n",
    "\n",
    "for sen_ko, sen_en in zip(clean_corpus_ko, clean_corpus_eng):\n",
    "    if len(sen_ko) <= max_len:\n",
    "        enc_corpus.append(preprocess_sentence_ko(sen_ko))\n",
    "        dec_corpus.append(preprocess_sentence_en(sen_en, s_token=True, e_token=True))\n",
    "\n",
    "print(\"Korean:\", enc_corpus[99])  \n",
    "print(\"English:\", dec_corpus[99])  "
   ]
  },
  {
   "cell_type": "code",
   "execution_count": 7,
   "id": "506a73d9",
   "metadata": {},
   "outputs": [],
   "source": [
    "def preprocess_sentence(sentence, s_token=False, e_token=False):\n",
    "    sentence = sentence.lower().strip()\n",
    "\n",
    "    sentence = re.sub(r\"([?.!,])\", r\" \\1 \", sentence)\n",
    "    sentence = re.sub(r'[\" \"]+', \" \", sentence)\n",
    "    sentence = re.sub(r\"[^ㄱ-ㅎㅏ-ㅣ가-힣 a-z A-Z?.!,]+\", \" \", sentence)\n",
    "\n",
    "    sentence = sentence.strip()\n",
    "\n",
    "    if s_token:\n",
    "        sentence = '<start> ' + sentence\n",
    "\n",
    "    if e_token:\n",
    "        sentence += ' <end>'\n",
    "        \n",
    "    \n",
    "    return sentence"
   ]
  },
  {
   "cell_type": "code",
   "execution_count": 8,
   "id": "2ac4662a",
   "metadata": {},
   "outputs": [
    {
     "name": "stdout",
     "output_type": "stream",
     "text": [
      "Korean: 그는 그날 다른 두 명도 죽인 것으로 여겨진다 .\n",
      "English: <start> he is also thought to have killed two people earlier in the day . <end>\n"
     ]
    }
   ],
   "source": [
    "max_len = 40 #40 글자 자르기 \n",
    "\n",
    "enc_corpus = []\n",
    "dec_corpus = []\n",
    "\n",
    "for sen_ko, sen_en in zip(clean_corpus_ko, clean_corpus_eng):\n",
    "    if len(sen_ko) <= max_len:\n",
    "        enc_corpus.append(preprocess_sentence(sen_ko))\n",
    "        dec_corpus.append(preprocess_sentence(sen_en, s_token=True, e_token=True))\n",
    "\n",
    "print(\"Korean:\", enc_corpus[50])  \n",
    "print(\"English:\", dec_corpus[50]) "
   ]
  },
  {
   "cell_type": "markdown",
   "id": "06401a5e",
   "metadata": {},
   "source": [
    "def tokenize(corpus):\n",
    "    tokenizer = tf.keras.preprocessing.text.Tokenizer(filters='')\n",
    "    tokenizer.fit_on_texts(corpus)\n",
    "\n",
    "    tensor = tokenizer.texts_to_sequences(corpus)\n",
    "\n",
    "    tensor = tf.keras.preprocessing.sequence.pad_sequences(tensor, padding='post')\n",
    "\n",
    "    return tensor, tokenizer"
   ]
  },
  {
   "cell_type": "markdown",
   "id": "8284aeb4",
   "metadata": {},
   "source": [
    "## 토큰화 "
   ]
  },
  {
   "cell_type": "code",
   "execution_count": 9,
   "id": "d5fc60f2",
   "metadata": {},
   "outputs": [],
   "source": [
    "vocab_size = 10000\n",
    "from konlpy.tag import Mecab\n",
    "tokenizer = Mecab()\n",
    "\n",
    "def tokenize_data(train_data, num_words=vocab_size):\n",
    "    X_train = []\n",
    "    for sentence in train_data:\n",
    "        temp_X = tokenizer.morphs(sentence) # 토큰화\n",
    "        X_train.append(temp_X)\n",
    "    \n",
    "    words = np.concatenate(X_train).tolist()\n",
    "    counter = Counter(words)\n",
    "    counter = counter.most_common(num_words-4)\n",
    "    vocab = ['<PAD>', '<BOS>', '<UNK>', '<UNUSED>'] + [key for key, _ in counter]\n",
    "    # 사전 구성\n",
    "    word_to_index = {word:index for index, word in enumerate(vocab)}\n",
    "\n",
    "    def wordlist_to_indexlist(wordlist):\n",
    "        return [word_to_index[word] if word in word_to_index else word_to_index['<UNK>'] for word in wordlist]\n",
    "    # 변환 text to index\n",
    "    X_train = list(map(wordlist_to_indexlist, X_train))\n",
    "\n",
    "    return X_train, word_to_index"
   ]
  },
  {
   "cell_type": "code",
   "execution_count": 10,
   "id": "d4f24225",
   "metadata": {},
   "outputs": [],
   "source": [
    "def tokenize(corpus):\n",
    "    tokenizer = tf.keras.preprocessing.text.Tokenizer(filters='')\n",
    "    tokenizer.fit_on_texts(corpus)\n",
    "\n",
    "    tensor = tokenizer.texts_to_sequences(corpus)\n",
    "\n",
    "    tensor = tf.keras.preprocessing.sequence.pad_sequences(tensor, padding='post')\n",
    "\n",
    "    return tensor, tokenizer"
   ]
  },
  {
   "cell_type": "code",
   "execution_count": 11,
   "id": "8a65a817",
   "metadata": {},
   "outputs": [],
   "source": [
    "enc_tensor, word_to_index = tokenize_data(enc_corpus)\n",
    "index_to_word = {index:word for word, index in word_to_index.items()}"
   ]
  },
  {
   "cell_type": "markdown",
   "id": "398b3ef8",
   "metadata": {},
   "source": [
    "enc_tensor, enc_tokenizer = tokenize(enc_corpus)\n",
    "dec_tensor, dec_tokenizer = tokenize(dec_corpus)\n",
    "\n",
    "enc_train = enc_tensor\n",
    "dec_train = dec_tensor\n",
    "\n",
    "print(\"한국 사전 Size:\", len(enc_tokenizer.index_word))\n",
    "print(\"영어 사전 Size:\", len(dec_tokenizer.index_word))"
   ]
  },
  {
   "cell_type": "code",
   "execution_count": 26,
   "id": "f326d2d0",
   "metadata": {},
   "outputs": [],
   "source": [
    "# 토큰화하기\n",
    "enc_tensor = tf.keras.preprocessing.sequence.pad_sequences(enc_tensor,\n",
    "                                                        value=word_to_index[\"<PAD>\"],                                                            \n",
    "                                                           padding='post')\n",
    "#print(enc_tensor[0])\n",
    "\n",
    "dec_tensor, dec_tokenizer = tokenize(dec_corpus)\n",
    "\n",
    "enc_train = enc_tensor\n",
    "dec_train = dec_tensor"
   ]
  },
  {
   "cell_type": "code",
   "execution_count": 31,
   "id": "75975fe0",
   "metadata": {},
   "outputs": [
    {
     "name": "stdout",
     "output_type": "stream",
     "text": [
      "25\n"
     ]
    }
   ],
   "source": [
    "print(len(enc_tensor[5]))"
   ]
  },
  {
   "cell_type": "code",
   "execution_count": 32,
   "id": "e4f03562",
   "metadata": {},
   "outputs": [
    {
     "name": "stdout",
     "output_type": "stream",
     "text": [
      "65\n"
     ]
    }
   ],
   "source": [
    "print(len(dec_tensor[6]))"
   ]
  },
  {
   "cell_type": "markdown",
   "id": "ca1d824e",
   "metadata": {},
   "source": [
    "### 모델 만들기 "
   ]
  },
  {
   "cell_type": "code",
   "execution_count": 33,
   "id": "fcf7f9e2",
   "metadata": {},
   "outputs": [],
   "source": [
    "class BahdanauAttention(tf.keras.layers.Layer):\n",
    "    def __init__(self, units):\n",
    "        super(BahdanauAttention, self).__init__()\n",
    "        self.w_dec = tf.keras.layers.Dense(units)\n",
    "        self.w_enc = tf.keras.layers.Dense(units)\n",
    "        self.w_com = tf.keras.layers.Dense(1)\n",
    "    \n",
    "    def call(self, h_enc, h_dec):\n",
    "        # h_enc shape: [batch x length x units]\n",
    "        # h_dec shape: [batch x units]\n",
    "\n",
    "        h_enc = self.w_enc(h_enc)\n",
    "        h_dec = tf.expand_dims(h_dec, 1)\n",
    "        h_dec = self.w_dec(h_dec)\n",
    "\n",
    "        score = self.w_com(tf.nn.tanh(h_dec + h_enc))\n",
    "        \n",
    "        attn = tf.nn.softmax(score, axis=1)\n",
    "\n",
    "        context_vec = attn * h_enc\n",
    "        context_vec = tf.reduce_sum(context_vec, axis=1)\n",
    "\n",
    "        return context_vec, attn"
   ]
  },
  {
   "cell_type": "code",
   "execution_count": 34,
   "id": "15c451d5",
   "metadata": {},
   "outputs": [],
   "source": [
    "class Encoder(tf.keras.Model):\n",
    "    def __init__(self, vocab_size, embedding_dim, enc_units):\n",
    "        super(Encoder, self).__init__()\n",
    "\n",
    "        self.enc_units = enc_units\n",
    "        self.embedding = tf.keras.layers.Embedding(vocab_size, embedding_dim)\n",
    "        self.gru = tf.keras.layers.GRU(enc_units,\n",
    "                                       return_sequences=True)\n",
    "\n",
    "    def call(self, x):\n",
    "        out = self.embedding(x)\n",
    "        out = self.gru(out)\n",
    "\n",
    "        return out"
   ]
  },
  {
   "cell_type": "code",
   "execution_count": 35,
   "id": "f0ad13e5",
   "metadata": {},
   "outputs": [],
   "source": [
    "class Decoder(tf.keras.Model):\n",
    "    def __init__(self, vocab_size, embedding_dim, dec_units):\n",
    "        super(Decoder, self).__init__()\n",
    "        self.dec_units = dec_units\n",
    "        self.embedding = tf.keras.layers.Embedding(vocab_size, embedding_dim)\n",
    "        self.gru = tf.keras.layers.GRU(dec_units,\n",
    "                                       return_sequences=True,\n",
    "                                       return_state=True)\n",
    "        self.fc = tf.keras.layers.Dense(vocab_size)\n",
    "\n",
    "        self.attention = BahdanauAttention(self.dec_units)\n",
    "\n",
    "    def call(self, x, h_dec, enc_out):\n",
    "        context_vec, attn = self.attention(enc_out, h_dec)\n",
    "\n",
    "        out = self.embedding(x)\n",
    "        out = tf.concat([tf.expand_dims(context_vec, 1), out], axis=-1)\n",
    "\n",
    "        out, h_dec = self.gru(out)\n",
    "        out = tf.reshape(out, (-1, out.shape[2]))\n",
    "        out = self.fc(out)\n",
    "\n",
    "        return out, h_dec, attn"
   ]
  },
  {
   "cell_type": "code",
   "execution_count": 36,
   "id": "9d4534b0",
   "metadata": {},
   "outputs": [
    {
     "name": "stdout",
     "output_type": "stream",
     "text": [
      "Encoder Output: (32, 40, 128)\n",
      "(32, 1)\n",
      "(32, 128)\n",
      "(32, 40, 128)\n",
      "Decoder Output: (32, 10001)\n",
      "Decoder Hidden State: (32, 128)\n",
      "Attention: (32, 40, 1)\n"
     ]
    }
   ],
   "source": [
    "BATCH_SIZE     = 32\n",
    "SRC_VOCAB_SIZE = vocab_size + 1\n",
    "TGT_VOCAB_SIZE = vocab_size + 1\n",
    "\n",
    "units         = 128\n",
    "embedding_dim = 128\n",
    "\n",
    "encoder = Encoder(SRC_VOCAB_SIZE, embedding_dim, units)\n",
    "decoder = Decoder(TGT_VOCAB_SIZE, embedding_dim, units)\n",
    "\n",
    "# sample input\n",
    "sequence_len = 40\n",
    "\n",
    "sample_enc = tf.random.uniform((BATCH_SIZE, sequence_len))\n",
    "sample_output = encoder(sample_enc)\n",
    "\n",
    "print ('Encoder Output:', sample_output.shape)\n",
    "\n",
    "sample_state = tf.random.uniform((BATCH_SIZE, units))\n",
    "\n",
    "print(tf.random.uniform((BATCH_SIZE, 1)).shape)\n",
    "print(sample_state.shape)\n",
    "print(sample_output.shape)\n",
    "\n",
    "sample_logits, h_dec, attn = decoder(tf.random.uniform((BATCH_SIZE, 1)),\n",
    "                                     sample_state, sample_output)\n",
    "\n",
    "print ('Decoder Output:', sample_logits.shape)\n",
    "print ('Decoder Hidden State:', h_dec.shape)\n",
    "print ('Attention:', attn.shape)"
   ]
  },
  {
   "cell_type": "code",
   "execution_count": 37,
   "id": "a9bb735d",
   "metadata": {},
   "outputs": [],
   "source": [
    "optimizer = tf.keras.optimizers.Adam()\n",
    "loss_object = tf.keras.losses.SparseCategoricalCrossentropy(\n",
    "    from_logits=True, reduction='none')\n",
    "\n",
    "def loss_function(real, pred):\n",
    "    mask = tf.math.logical_not(tf.math.equal(real, 0))\n",
    "    loss = loss_object(real, pred)\n",
    "    \n",
    "    mask = tf.cast(mask, dtype=loss.dtype)\n",
    "    loss *= mask\n",
    "    \n",
    "    return tf.reduce_mean(loss)"
   ]
  },
  {
   "cell_type": "code",
   "execution_count": 38,
   "id": "44099366",
   "metadata": {},
   "outputs": [],
   "source": [
    "@tf.function\n",
    "def train_step(src, tgt, encoder, decoder, optimizer, dec_tok):\n",
    "    bsz = src.shape[0]\n",
    "    loss = 0\n",
    "\n",
    "    with tf.GradientTape() as tape:\n",
    "        enc_out = encoder(src)\n",
    "        h_dec = enc_out[:, -1]\n",
    "        \n",
    "        dec_src = tf.expand_dims([dec_tok.word_index['<start>']] * bsz, 1)\n",
    "\n",
    "        for t in range(1, tgt.shape[1]):\n",
    "            pred, h_dec, _ = decoder(dec_src, h_dec, enc_out)\n",
    "\n",
    "            loss += loss_function(tgt[:, t], pred)\n",
    "            dec_src = tf.expand_dims(tgt[:, t], 1)\n",
    "        \n",
    "    batch_loss = (loss / int(tgt.shape[1]))\n",
    "\n",
    "    variables = encoder.trainable_variables + decoder.trainable_variables\n",
    "    gradients = tape.gradient(loss, variables)\n",
    "    optimizer.apply_gradients(zip(gradients, variables))\n",
    "    \n",
    "    return batch_loss"
   ]
  },
  {
   "cell_type": "code",
   "execution_count": 18,
   "id": "78f6d12c",
   "metadata": {},
   "outputs": [
    {
     "data": {
      "text/plain": [
       "'/usr/share/fonts/truetype/nanum/NanumBarunGothic.ttf'"
      ]
     },
     "execution_count": 18,
     "metadata": {},
     "output_type": "execute_result"
    }
   ],
   "source": [
    "import matplotlib as mpl\n",
    "import matplotlib.pyplot as plt\n",
    " \n",
    "%config InlineBackend.figure_format = 'retina'\n",
    " \n",
    "import matplotlib.font_manager as fm\n",
    "fontpath = '/usr/share/fonts/truetype/nanum/NanumBarunGothic.ttf'\n",
    "font = fm.FontProperties(fname=fontpath, size=9)\n",
    "plt.rc('font', family='NanumBarunGothic') \n",
    "mpl.font_manager.findfont(font)"
   ]
  },
  {
   "cell_type": "code",
   "execution_count": 40,
   "id": "60cf8753",
   "metadata": {},
   "outputs": [
    {
     "name": "stderr",
     "output_type": "stream",
     "text": [
      "Epoch  1: 100%|██████████| 498/498 [02:24<00:00,  3.46it/s, Loss 1.4556]  \n",
      "Epoch  2: 100%|██████████| 498/498 [00:56<00:00,  8.80it/s, Loss 1.4205]\n",
      "Epoch  3: 100%|██████████| 498/498 [00:56<00:00,  8.76it/s, Loss 1.4195]\n",
      "Epoch  4: 100%|██████████| 498/498 [00:56<00:00,  8.85it/s, Loss 1.3555]\n",
      "Epoch  5: 100%|██████████| 498/498 [00:57<00:00,  8.68it/s, Loss 1.2785]\n",
      "Epoch  6: 100%|██████████| 498/498 [00:56<00:00,  8.75it/s, Loss 1.2247]\n",
      "Epoch  7: 100%|██████████| 498/498 [00:56<00:00,  8.79it/s, Loss 1.1789]\n",
      "Epoch  8: 100%|██████████| 498/498 [00:56<00:00,  8.83it/s, Loss 1.1413]\n",
      "Epoch  9: 100%|██████████| 498/498 [00:56<00:00,  8.89it/s, Loss 1.1062]\n",
      "Epoch 10: 100%|██████████| 498/498 [00:57<00:00,  8.64it/s, Loss 1.0722]\n",
      "Epoch 11: 100%|██████████| 498/498 [00:57<00:00,  8.70it/s, Loss 1.0408]\n",
      "Epoch 12: 100%|██████████| 498/498 [00:57<00:00,  8.74it/s, Loss 1.0111]\n",
      "Epoch 13: 100%|██████████| 498/498 [00:57<00:00,  8.68it/s, Loss 0.9838]\n",
      "Epoch 14: 100%|██████████| 498/498 [00:57<00:00,  8.69it/s, Loss 0.9575]\n",
      "Epoch 15: 100%|██████████| 498/498 [00:56<00:00,  8.74it/s, Loss 0.9327]\n"
     ]
    }
   ],
   "source": [
    "# eval_step() 정의하기\n",
    "# train_step() 이후 eval_step() 진행하도록 소스 수정하기\n",
    "# Define eval_step\n",
    "\n",
    "@tf.function\n",
    "def eval_step(src, tgt, encoder, decoder, dec_tok):\n",
    "    bsz = src.shape[0]\n",
    "    loss = 0\n",
    "\n",
    "    enc_out = encoder(src)\n",
    "\n",
    "    h_dec = enc_out[:, -1]\n",
    "\n",
    "    dec_src = tf.expand_dims([dec_tok.word_index['<start>']] * bsz, 1)\n",
    "\n",
    "    for t in range(1, tgt.shape[1]):\n",
    "        pred, h_dec, _ = decoder(dec_src, h_dec, enc_out)\n",
    "\n",
    "        loss += loss_function(tgt[:, t], pred)\n",
    "        dec_src = tf.expand_dims(tgt[:, t], 1)\n",
    "\n",
    "    batch_loss = (loss / int(tgt.shape[1]))\n",
    "\n",
    "    return batch_loss\n",
    "\n",
    "\n",
    "# Training Process\n",
    "\n",
    "from tqdm import tqdm\n",
    "import random\n",
    "EPOCHS = 15\n",
    "\n",
    "for epoch in range(EPOCHS):\n",
    "    total_loss = 0\n",
    "\n",
    "    idx_list = list(range(0, enc_train.shape[0], BATCH_SIZE))\n",
    "    random.shuffle(idx_list)\n",
    "    t = tqdm(idx_list)\n",
    "\n",
    "    for (batch, idx) in enumerate(t):\n",
    "        batch_loss = train_step(enc_train[idx:idx+BATCH_SIZE],\n",
    "                                dec_train[idx:idx+BATCH_SIZE],\n",
    "                                encoder,\n",
    "                                decoder,\n",
    "                                optimizer,\n",
    "                                dec_tokenizer)\n",
    "\n",
    "        total_loss += batch_loss\n",
    "\n",
    "        t.set_description_str('Epoch %2d' % (epoch + 1))\n",
    "        t.set_postfix_str('Loss %.4f' % (total_loss.numpy() / (batch + 1)))\n"
   ]
  },
  {
   "cell_type": "markdown",
   "id": "020b2ffa",
   "metadata": {},
   "source": [
    "# 모델 평가\n",
    "\n",
    "## 예문 ##\n",
    "1) 오바마는 대통령이다.\n",
    "\n",
    "2) 시민들은 도시 속에 산다.\n",
    "\n",
    "3) 커피는 필요 없다.\n",
    "\n",
    "4) 일곱 명의 사망자가 발생했다."
   ]
  },
  {
   "cell_type": "code",
   "execution_count": 42,
   "id": "b92cdc0b",
   "metadata": {},
   "outputs": [
    {
     "data": {
      "text/plain": [
       "'/usr/share/fonts/truetype/nanum/NanumBarunGothic.ttf'"
      ]
     },
     "execution_count": 42,
     "metadata": {},
     "output_type": "execute_result"
    }
   ],
   "source": [
    "import matplotlib as mpl\n",
    "import matplotlib.pyplot as plt\n",
    " \n",
    "%config InlineBackend.figure_format = 'retina'\n",
    " \n",
    "import matplotlib.font_manager as fm\n",
    "fontpath = '/usr/share/fonts/truetype/nanum/NanumBarunGothic.ttf'\n",
    "font = fm.FontProperties(fname=fontpath, size=9)\n",
    "plt.rc('font', family='NanumBarunGothic') \n",
    "mpl.font_manager.findfont(font)"
   ]
  },
  {
   "cell_type": "code",
   "execution_count": 43,
   "id": "669a4ce9",
   "metadata": {},
   "outputs": [
    {
     "name": "stdout",
     "output_type": "stream",
     "text": [
      "Input: 일곱 명의 사망자가 발생했다 .\n",
      "Predicted translation: the two soldier were killed . <end> \n"
     ]
    },
    {
     "name": "stderr",
     "output_type": "stream",
     "text": [
      "/tmp/ipykernel_604/75899058.py:54: UserWarning: FixedFormatter should only be used together with FixedLocator\n",
      "  ax.set_xticklabels([''] + sentence, fontdict=fontdict, rotation=90)\n",
      "/tmp/ipykernel_604/75899058.py:55: UserWarning: FixedFormatter should only be used together with FixedLocator\n",
      "  ax.set_yticklabels([''] + predicted_sentence, fontdict=fontdict)\n"
     ]
    },
    {
     "data": {
      "image/png": "[encoded data removed]",
      "text/plain": [
       "<Figure size 720x720 with 1 Axes>"
      ]
     },
     "metadata": {
      "image/png": {
       "height": 618,
       "width": 452
      },
      "needs_background": "light"
     },
     "output_type": "display_data"
    }
   ],
   "source": [
    "def evaluate(sentence, encoder, decoder):\n",
    "    attention = np.zeros((dec_train.shape[-1], enc_train.shape[-1]))\n",
    "    \n",
    "    sentence = preprocess_sentence(sentence)\n",
    "    inputs = tokenizer.morphs(sentence)\n",
    "    \n",
    "    inputss = []\n",
    "    for s in inputs:\n",
    "        if s not in word_to_index:\n",
    "                inputss.append(word_to_index['<UNK>'])\n",
    "        else: inputss.append(word_to_index[s])\n",
    "    inputs = [inputss]\n",
    "    \n",
    "    inputs = tf.keras.preprocessing.sequence.pad_sequences(inputs,\n",
    "                                                           value=word_to_index[\"<PAD>\"],\n",
    "                                                           maxlen=enc_train.shape[-1],\n",
    "                                                           padding='post')\n",
    "\n",
    "    result = ''\n",
    "    enc_out = encoder(inputs)\n",
    "\n",
    "    dec_hidden = enc_out[:, -1]\n",
    "    dec_input = tf.expand_dims([dec_tokenizer.word_index['<start>']]*1, 0)\n",
    "\n",
    "    \n",
    "    for t in range(dec_train.shape[-1]):\n",
    "        predictions, dec_hidden, attention_weights = decoder(dec_input,\n",
    "                                                             dec_hidden,\n",
    "                                                             enc_out)\n",
    "\n",
    "        attention_weights = tf.reshape(attention_weights, (-1, ))\n",
    "        attention[t] = attention_weights.numpy()\n",
    "\n",
    "        predicted_id = \\\n",
    "        tf.argmax(tf.math.softmax(predictions, axis=-1)[0]).numpy()\n",
    "\n",
    "        result += dec_tokenizer.index_word[predicted_id] + ' '\n",
    "\n",
    "        if dec_tokenizer.index_word[predicted_id] == '<end>':\n",
    "            return result, sentence, attention\n",
    "\n",
    "        dec_input = tf.expand_dims([predicted_id], 0)\n",
    "\n",
    "    return result, sentence, attention\n",
    "\n",
    "\n",
    "def plot_attention(attention, sentence, predicted_sentence):\n",
    "    fig = plt.figure(figsize=(10,10))\n",
    "    ax = fig.add_subplot(1, 1, 1)\n",
    "    ax.matshow(attention, cmap='viridis')\n",
    "\n",
    "    fontdict = {'fontsize': 14}\n",
    "\n",
    "    ax.set_xticklabels([''] + sentence, fontdict=fontdict, rotation=90)\n",
    "    ax.set_yticklabels([''] + predicted_sentence, fontdict=fontdict)\n",
    "\n",
    "    ax.xaxis.set_major_locator(ticker.MultipleLocator(1))\n",
    "    ax.yaxis.set_major_locator(ticker.MultipleLocator(1))\n",
    "\n",
    "    plt.show()\n",
    "\n",
    "\n",
    "def translate(sentence, encoder, decoder):\n",
    "    result, sentence, attention = evaluate(sentence, encoder, decoder)\n",
    "\n",
    "    print('Input: %s' % (sentence))\n",
    "    print('Predicted translation: {}'.format(result))\n",
    "    \n",
    "    attention = attention[:len(result.split()), :len(sentence.split())]\n",
    "    plot_attention(attention, sentence.split(), result.split(' '))\n",
    "\n",
    "\n",
    "str_t = \"일곱 명의 사망자가 발생했다.\" \n",
    "translate(str_t, encoder, decoder)"
   ]
  },
  {
   "cell_type": "code",
   "execution_count": 44,
   "id": "fcb465b5",
   "metadata": {},
   "outputs": [
    {
     "name": "stdout",
     "output_type": "stream",
     "text": [
      "Input: 커피는 필요 없다 .\n",
      "Predicted translation: it s a lot of your life . <end> \n"
     ]
    },
    {
     "name": "stderr",
     "output_type": "stream",
     "text": [
      "/tmp/ipykernel_604/75899058.py:54: UserWarning: FixedFormatter should only be used together with FixedLocator\n",
      "  ax.set_xticklabels([''] + sentence, fontdict=fontdict, rotation=90)\n",
      "/tmp/ipykernel_604/75899058.py:55: UserWarning: FixedFormatter should only be used together with FixedLocator\n",
      "  ax.set_yticklabels([''] + predicted_sentence, fontdict=fontdict)\n"
     ]
    },
    {
     "data": {
      "image/png": "[encoded data removed]",
      "text/plain": [
       "<Figure size 720x720 with 1 Axes>"
      ]
     },
     "metadata": {
      "image/png": {
       "height": 606,
       "width": 299
      },
      "needs_background": "light"
     },
     "output_type": "display_data"
    }
   ],
   "source": [
    "str_t = \"커피는 필요 없다.\" \n",
    "translate(str_t, encoder, decoder)"
   ]
  },
  {
   "cell_type": "code",
   "execution_count": 45,
   "id": "f697b951",
   "metadata": {},
   "outputs": [
    {
     "name": "stdout",
     "output_type": "stream",
     "text": [
      "Input: 시민들은 도시 속에 산다 .\n",
      "Predicted translation: the dow is down . <end> \n"
     ]
    },
    {
     "name": "stderr",
     "output_type": "stream",
     "text": [
      "/tmp/ipykernel_604/75899058.py:54: UserWarning: FixedFormatter should only be used together with FixedLocator\n",
      "  ax.set_xticklabels([''] + sentence, fontdict=fontdict, rotation=90)\n",
      "/tmp/ipykernel_604/75899058.py:55: UserWarning: FixedFormatter should only be used together with FixedLocator\n",
      "  ax.set_yticklabels([''] + predicted_sentence, fontdict=fontdict)\n"
     ]
    },
    {
     "data": {
      "image/png": "[encoded data removed]",
      "text/plain": [
       "<Figure size 720x720 with 1 Axes>"
      ]
     },
     "metadata": {
      "image/png": {
       "height": 618,
       "width": 511
      },
      "needs_background": "light"
     },
     "output_type": "display_data"
    }
   ],
   "source": [
    "str_t = \"시민들은 도시 속에 산다.\" \n",
    "translate(str_t, encoder, decoder)"
   ]
  },
  {
   "cell_type": "code",
   "execution_count": 46,
   "id": "5efd1b07",
   "metadata": {},
   "outputs": [
    {
     "name": "stdout",
     "output_type": "stream",
     "text": [
      "Input: 오바마는 대통령이다 .\n",
      "Predicted translation: obama s a new york is a new york is a new york is a new york is a new york is a new york is a new york is a new york is a new york is a new york is a new york is a new york is a new york is a new york is a new york is a new york \n"
     ]
    },
    {
     "name": "stderr",
     "output_type": "stream",
     "text": [
      "/tmp/ipykernel_604/75899058.py:54: UserWarning: FixedFormatter should only be used together with FixedLocator\n",
      "  ax.set_xticklabels([''] + sentence, fontdict=fontdict, rotation=90)\n",
      "/tmp/ipykernel_604/75899058.py:55: UserWarning: FixedFormatter should only be used together with FixedLocator\n",
      "  ax.set_yticklabels([''] + predicted_sentence, fontdict=fontdict)\n"
     ]
    },
    {
     "data": {
      "image/png": "[encoded data removed]",
      "text/plain": [
       "<Figure size 720x720 with 1 Axes>"
      ]
     },
     "metadata": {
      "image/png": {
       "height": 632,
       "width": 93
      },
      "needs_background": "light"
     },
     "output_type": "display_data"
    }
   ],
   "source": [
    "str_t = \"오바마는 대통령이다.\" \n",
    "translate(str_t, encoder, decoder)"
   ]
  },
  {
   "cell_type": "markdown",
   "id": "d3ca0c4a",
   "metadata": {},
   "source": [
    "## 회고 \n",
    "전처리는 정상적으로 된거 같은데 토큰화가 잘 되어있는건지 모르겠다. \n",
    "배웠던대로 한영 둘다 진행해보려했는데 모델평가시에 코드가 진행이 되지 않아 \n",
    "한글은 아예 사전을 다시 만들어 진행하였다. 에러 내용은 디코더의 토큰이 없다고 말하는거 같은데 \n",
    "분명 토큰을 추가 하였음에도 진행이 되지 않았다.. 간단한 번역기 만들기도 이렇게 어렵다니...\n",
    "어떤 문제점에서 번역이 잘안되었는지 곰곰히 생각해보아야겠다. 그나마 일곱명의 사망자가 발생했다는 문장 번역이 \n",
    "한글내용을 가지고 있던거 같다... "
   ]
  },
  {
   "cell_type": "code",
   "execution_count": null,
   "id": "bdb5298b",
   "metadata": {},
   "outputs": [],
   "source": []
  }
 ],
 "metadata": {
  "kernelspec": {
   "display_name": "Python 3 (ipykernel)",
   "language": "python",
   "name": "python3"
  },
  "language_info": {
   "codemirror_mode": {
    "name": "ipython",
    "version": 3
   },
   "file_extension": ".py",
   "mimetype": "text/x-python",
   "name": "python",
   "nbconvert_exporter": "python",
   "pygments_lexer": "ipython3",
   "version": "3.9.7"
  }
 },
 "nbformat": 4,
 "nbformat_minor": 5
}
